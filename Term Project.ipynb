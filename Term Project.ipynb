{
 "cells": [
  {
   "cell_type": "code",
   "execution_count": 1,
   "metadata": {
    "colab": {
     "base_uri": "https://localhost:8080/",
     "height": 706
    },
    "id": "-DETooF62kR3",
    "outputId": "20510b1f-f644-4d35-e0f4-9632ad96a9d1"
   },
   "outputs": [
    {
     "name": "stdout",
     "output_type": "stream",
     "text": [
      "Drive already mounted at /content/gdrive; to attempt to forcibly remount, call drive.mount(\"/content/gdrive\", force_remount=True).\n"
     ]
    },
    {
     "data": {
      "text/html": [
       "<div>\n",
       "<style scoped>\n",
       "    .dataframe tbody tr th:only-of-type {\n",
       "        vertical-align: middle;\n",
       "    }\n",
       "\n",
       "    .dataframe tbody tr th {\n",
       "        vertical-align: top;\n",
       "    }\n",
       "\n",
       "    .dataframe thead th {\n",
       "        text-align: right;\n",
       "    }\n",
       "</style>\n",
       "<table border=\"1\" class=\"dataframe\">\n",
       "  <thead>\n",
       "    <tr style=\"text-align: right;\">\n",
       "      <th></th>\n",
       "      <th>Unnamed: 0</th>\n",
       "      <th>ID</th>\n",
       "      <th>성별</th>\n",
       "      <th>연령</th>\n",
       "      <th>거주지역</th>\n",
       "      <th>거주지역_광역</th>\n",
       "      <th>거주지역_기초</th>\n",
       "      <th>상품대분류명</th>\n",
       "      <th>상품중분류명</th>\n",
       "      <th>구매지역</th>\n",
       "      <th>구매일자</th>\n",
       "      <th>구매시간</th>\n",
       "      <th>구매수량</th>\n",
       "      <th>구매금액</th>\n",
       "      <th>취소여부</th>\n",
       "      <th>구매지역_광역</th>\n",
       "      <th>구매지역_기초</th>\n",
       "      <th>구매월</th>\n",
       "      <th>구매요일</th>\n",
       "      <th>총구매액</th>\n",
       "      <th>구매계절</th>\n",
       "      <th>구매시간대</th>\n",
       "      <th>eday</th>\n",
       "      <th>구매연령대</th>\n",
       "    </tr>\n",
       "  </thead>\n",
       "  <tbody>\n",
       "    <tr>\n",
       "      <th>0</th>\n",
       "      <td>0</td>\n",
       "      <td>478207946</td>\n",
       "      <td>남</td>\n",
       "      <td>84</td>\n",
       "      <td>서울 성동구</td>\n",
       "      <td>서울</td>\n",
       "      <td>성동구</td>\n",
       "      <td>가전제품</td>\n",
       "      <td>컴퓨터주변기기</td>\n",
       "      <td>서울 동대문구</td>\n",
       "      <td>20141219</td>\n",
       "      <td>13</td>\n",
       "      <td>1</td>\n",
       "      <td>59000</td>\n",
       "      <td>0</td>\n",
       "      <td>서울</td>\n",
       "      <td>동대문구</td>\n",
       "      <td>12</td>\n",
       "      <td>금</td>\n",
       "      <td>59000</td>\n",
       "      <td>겨울</td>\n",
       "      <td>낮</td>\n",
       "      <td>12 days 00:00:00.000000000</td>\n",
       "      <td>80대</td>\n",
       "    </tr>\n",
       "    <tr>\n",
       "      <th>1</th>\n",
       "      <td>1</td>\n",
       "      <td>478207946</td>\n",
       "      <td>남</td>\n",
       "      <td>84</td>\n",
       "      <td>서울 성동구</td>\n",
       "      <td>서울</td>\n",
       "      <td>성동구</td>\n",
       "      <td>가전제품</td>\n",
       "      <td>TV/AV</td>\n",
       "      <td>서울 동대문구</td>\n",
       "      <td>20141031</td>\n",
       "      <td>14</td>\n",
       "      <td>1</td>\n",
       "      <td>106000</td>\n",
       "      <td>0</td>\n",
       "      <td>서울</td>\n",
       "      <td>동대문구</td>\n",
       "      <td>10</td>\n",
       "      <td>금</td>\n",
       "      <td>106000</td>\n",
       "      <td>가을</td>\n",
       "      <td>낮</td>\n",
       "      <td>61 days 00:00:00.000000000</td>\n",
       "      <td>80대</td>\n",
       "    </tr>\n",
       "    <tr>\n",
       "      <th>2</th>\n",
       "      <td>2</td>\n",
       "      <td>478207946</td>\n",
       "      <td>남</td>\n",
       "      <td>84</td>\n",
       "      <td>서울 성동구</td>\n",
       "      <td>서울</td>\n",
       "      <td>성동구</td>\n",
       "      <td>가전제품</td>\n",
       "      <td>주방가전</td>\n",
       "      <td>서울 중구</td>\n",
       "      <td>20140815</td>\n",
       "      <td>15</td>\n",
       "      <td>1</td>\n",
       "      <td>37000</td>\n",
       "      <td>0</td>\n",
       "      <td>서울</td>\n",
       "      <td>중구</td>\n",
       "      <td>8</td>\n",
       "      <td>금</td>\n",
       "      <td>37000</td>\n",
       "      <td>여름</td>\n",
       "      <td>낮</td>\n",
       "      <td>138 days 00:00:00.000000000</td>\n",
       "      <td>80대</td>\n",
       "    </tr>\n",
       "    <tr>\n",
       "      <th>3</th>\n",
       "      <td>3</td>\n",
       "      <td>478207946</td>\n",
       "      <td>남</td>\n",
       "      <td>84</td>\n",
       "      <td>서울 성동구</td>\n",
       "      <td>서울</td>\n",
       "      <td>성동구</td>\n",
       "      <td>의류잡화</td>\n",
       "      <td>여성용의류-이너웨어</td>\n",
       "      <td>서울 동대문구</td>\n",
       "      <td>20140322</td>\n",
       "      <td>17</td>\n",
       "      <td>1</td>\n",
       "      <td>118000</td>\n",
       "      <td>0</td>\n",
       "      <td>서울</td>\n",
       "      <td>동대문구</td>\n",
       "      <td>3</td>\n",
       "      <td>토</td>\n",
       "      <td>118000</td>\n",
       "      <td>봄</td>\n",
       "      <td>저녁</td>\n",
       "      <td>284 days 00:00:00.000000000</td>\n",
       "      <td>80대</td>\n",
       "    </tr>\n",
       "    <tr>\n",
       "      <th>4</th>\n",
       "      <td>4</td>\n",
       "      <td>479806984</td>\n",
       "      <td>남</td>\n",
       "      <td>84</td>\n",
       "      <td>서울 서초구</td>\n",
       "      <td>서울</td>\n",
       "      <td>서초구</td>\n",
       "      <td>생활잡화</td>\n",
       "      <td>화장품</td>\n",
       "      <td>서울 중구</td>\n",
       "      <td>20140704</td>\n",
       "      <td>12</td>\n",
       "      <td>1</td>\n",
       "      <td>22000</td>\n",
       "      <td>0</td>\n",
       "      <td>서울</td>\n",
       "      <td>중구</td>\n",
       "      <td>7</td>\n",
       "      <td>금</td>\n",
       "      <td>22000</td>\n",
       "      <td>여름</td>\n",
       "      <td>낮</td>\n",
       "      <td>180 days 00:00:00.000000000</td>\n",
       "      <td>80대</td>\n",
       "    </tr>\n",
       "  </tbody>\n",
       "</table>\n",
       "</div>"
      ],
      "text/plain": [
       "   Unnamed: 0         ID 성별  연령  ... 구매계절 구매시간대                         eday 구매연령대\n",
       "0           0  478207946  남  84  ...   겨울     낮   12 days 00:00:00.000000000   80대\n",
       "1           1  478207946  남  84  ...   가을     낮   61 days 00:00:00.000000000   80대\n",
       "2           2  478207946  남  84  ...   여름     낮  138 days 00:00:00.000000000   80대\n",
       "3           3  478207946  남  84  ...    봄    저녁  284 days 00:00:00.000000000   80대\n",
       "4           4  479806984  남  84  ...   여름     낮  180 days 00:00:00.000000000   80대\n",
       "\n",
       "[5 rows x 24 columns]"
      ]
     },
     "execution_count": 1,
     "metadata": {
      "tags": []
     },
     "output_type": "execute_result"
    }
   ],
   "source": [
    "import pandas as pd\n",
    "import warnings\n",
    "from sklearn import preprocessing\n",
    "from google.colab import drive\n",
    "drive.mount('/content/gdrive')\n",
    "warnings.filterwarnings('ignore')\n",
    "mart=pd.read_csv(\"/content/gdrive/My Drive/Colab Notebooks/mart2.csv\",encoding=\"cp949\")\n",
    "mart.head()"
   ]
  },
  {
   "cell_type": "code",
   "execution_count": 2,
   "metadata": {
    "colab": {
     "base_uri": "https://localhost:8080/"
    },
    "id": "u5PNxMfW2kR6",
    "outputId": "e36d18f0-9779-4a0e-e28e-4d6122b6444a"
   },
   "outputs": [
    {
     "name": "stdout",
     "output_type": "stream",
     "text": [
      "<class 'pandas.core.frame.DataFrame'>\n",
      "RangeIndex: 101692 entries, 0 to 101691\n",
      "Data columns (total 24 columns):\n",
      " #   Column      Non-Null Count   Dtype \n",
      "---  ------      --------------   ----- \n",
      " 0   Unnamed: 0  101692 non-null  int64 \n",
      " 1   ID          101692 non-null  int64 \n",
      " 2   성별          101692 non-null  object\n",
      " 3   연령          101692 non-null  int64 \n",
      " 4   거주지역        101692 non-null  object\n",
      " 5   거주지역_광역     101692 non-null  object\n",
      " 6   거주지역_기초     101692 non-null  object\n",
      " 7   상품대분류명      101692 non-null  object\n",
      " 8   상품중분류명      101692 non-null  object\n",
      " 9   구매지역        101692 non-null  object\n",
      " 10  구매일자        101692 non-null  int64 \n",
      " 11  구매시간        101692 non-null  int64 \n",
      " 12  구매수량        101692 non-null  int64 \n",
      " 13  구매금액        101692 non-null  int64 \n",
      " 14  취소여부        101692 non-null  int64 \n",
      " 15  구매지역_광역     101692 non-null  object\n",
      " 16  구매지역_기초     101692 non-null  object\n",
      " 17  구매월         101692 non-null  int64 \n",
      " 18  구매요일        101692 non-null  object\n",
      " 19  총구매액        101692 non-null  int64 \n",
      " 20  구매계절        101692 non-null  object\n",
      " 21  구매시간대       101692 non-null  object\n",
      " 22  eday        101692 non-null  object\n",
      " 23  구매연령대       101692 non-null  object\n",
      "dtypes: int64(10), object(14)\n",
      "memory usage: 18.6+ MB\n",
      "None\n"
     ]
    }
   ],
   "source": [
    "print(mart.info())"
   ]
  },
  {
   "cell_type": "code",
   "execution_count": 3,
   "metadata": {
    "colab": {
     "base_uri": "https://localhost:8080/",
     "height": 202
    },
    "id": "AzYzE18k2kR6",
    "outputId": "530fed45-dc36-457b-96d3-d9b28c615572"
   },
   "outputs": [
    {
     "data": {
      "text/html": [
       "<div>\n",
       "<style scoped>\n",
       "    .dataframe tbody tr th:only-of-type {\n",
       "        vertical-align: middle;\n",
       "    }\n",
       "\n",
       "    .dataframe tbody tr th {\n",
       "        vertical-align: top;\n",
       "    }\n",
       "\n",
       "    .dataframe thead th {\n",
       "        text-align: right;\n",
       "    }\n",
       "</style>\n",
       "<table border=\"1\" class=\"dataframe\">\n",
       "  <thead>\n",
       "    <tr style=\"text-align: right;\">\n",
       "      <th></th>\n",
       "      <th>연령</th>\n",
       "      <th>상품중분류명</th>\n",
       "      <th>구매시간</th>\n",
       "      <th>구매수량</th>\n",
       "      <th>구매금액</th>\n",
       "      <th>취소여부</th>\n",
       "      <th>구매요일</th>\n",
       "      <th>총구매액</th>\n",
       "      <th>구매계절</th>\n",
       "      <th>eday</th>\n",
       "    </tr>\n",
       "  </thead>\n",
       "  <tbody>\n",
       "    <tr>\n",
       "      <th>0</th>\n",
       "      <td>84</td>\n",
       "      <td>컴퓨터주변기기</td>\n",
       "      <td>13</td>\n",
       "      <td>1</td>\n",
       "      <td>59000</td>\n",
       "      <td>0</td>\n",
       "      <td>금</td>\n",
       "      <td>59000</td>\n",
       "      <td>겨울</td>\n",
       "      <td>12 days 00:00:00.000000000</td>\n",
       "    </tr>\n",
       "    <tr>\n",
       "      <th>1</th>\n",
       "      <td>84</td>\n",
       "      <td>TV/AV</td>\n",
       "      <td>14</td>\n",
       "      <td>1</td>\n",
       "      <td>106000</td>\n",
       "      <td>0</td>\n",
       "      <td>금</td>\n",
       "      <td>106000</td>\n",
       "      <td>가을</td>\n",
       "      <td>61 days 00:00:00.000000000</td>\n",
       "    </tr>\n",
       "    <tr>\n",
       "      <th>2</th>\n",
       "      <td>84</td>\n",
       "      <td>주방가전</td>\n",
       "      <td>15</td>\n",
       "      <td>1</td>\n",
       "      <td>37000</td>\n",
       "      <td>0</td>\n",
       "      <td>금</td>\n",
       "      <td>37000</td>\n",
       "      <td>여름</td>\n",
       "      <td>138 days 00:00:00.000000000</td>\n",
       "    </tr>\n",
       "    <tr>\n",
       "      <th>3</th>\n",
       "      <td>84</td>\n",
       "      <td>여성용의류-이너웨어</td>\n",
       "      <td>17</td>\n",
       "      <td>1</td>\n",
       "      <td>118000</td>\n",
       "      <td>0</td>\n",
       "      <td>토</td>\n",
       "      <td>118000</td>\n",
       "      <td>봄</td>\n",
       "      <td>284 days 00:00:00.000000000</td>\n",
       "    </tr>\n",
       "    <tr>\n",
       "      <th>4</th>\n",
       "      <td>84</td>\n",
       "      <td>화장품</td>\n",
       "      <td>12</td>\n",
       "      <td>1</td>\n",
       "      <td>22000</td>\n",
       "      <td>0</td>\n",
       "      <td>금</td>\n",
       "      <td>22000</td>\n",
       "      <td>여름</td>\n",
       "      <td>180 days 00:00:00.000000000</td>\n",
       "    </tr>\n",
       "  </tbody>\n",
       "</table>\n",
       "</div>"
      ],
      "text/plain": [
       "   연령      상품중분류명  구매시간  구매수량  ...  구매요일    총구매액 구매계절                         eday\n",
       "0  84     컴퓨터주변기기    13     1  ...     금   59000   겨울   12 days 00:00:00.000000000\n",
       "1  84       TV/AV    14     1  ...     금  106000   가을   61 days 00:00:00.000000000\n",
       "2  84        주방가전    15     1  ...     금   37000   여름  138 days 00:00:00.000000000\n",
       "3  84  여성용의류-이너웨어    17     1  ...     토  118000    봄  284 days 00:00:00.000000000\n",
       "4  84         화장품    12     1  ...     금   22000   여름  180 days 00:00:00.000000000\n",
       "\n",
       "[5 rows x 10 columns]"
      ]
     },
     "execution_count": 3,
     "metadata": {
      "tags": []
     },
     "output_type": "execute_result"
    }
   ],
   "source": [
    "mart.drop('Unnamed: 0',axis=1,inplace=True)\n",
    "y=mart['성별']\n",
    "X=mart[['연령','상품중분류명','구매시간','구매수량','구매금액','취소여부','구매요일','총구매액','구매계절','eday']]\n",
    "X.head()"
   ]
  },
  {
   "cell_type": "code",
   "execution_count": 4,
   "metadata": {
    "colab": {
     "base_uri": "https://localhost:8080/",
     "height": 202
    },
    "id": "toM3ekTw2kR6",
    "outputId": "f80bc41e-8470-4139-8197-112a8b66d95e"
   },
   "outputs": [
    {
     "data": {
      "text/html": [
       "<div>\n",
       "<style scoped>\n",
       "    .dataframe tbody tr th:only-of-type {\n",
       "        vertical-align: middle;\n",
       "    }\n",
       "\n",
       "    .dataframe tbody tr th {\n",
       "        vertical-align: top;\n",
       "    }\n",
       "\n",
       "    .dataframe thead th {\n",
       "        text-align: right;\n",
       "    }\n",
       "</style>\n",
       "<table border=\"1\" class=\"dataframe\">\n",
       "  <thead>\n",
       "    <tr style=\"text-align: right;\">\n",
       "      <th></th>\n",
       "      <th>연령</th>\n",
       "      <th>상품중분류명</th>\n",
       "      <th>구매시간</th>\n",
       "      <th>구매수량</th>\n",
       "      <th>구매금액</th>\n",
       "      <th>취소여부</th>\n",
       "      <th>구매요일</th>\n",
       "      <th>총구매액</th>\n",
       "      <th>구매계절</th>\n",
       "      <th>eday</th>\n",
       "    </tr>\n",
       "  </thead>\n",
       "  <tbody>\n",
       "    <tr>\n",
       "      <th>0</th>\n",
       "      <td>29</td>\n",
       "      <td>27</td>\n",
       "      <td>10</td>\n",
       "      <td>49</td>\n",
       "      <td>860</td>\n",
       "      <td>0</td>\n",
       "      <td>0</td>\n",
       "      <td>59</td>\n",
       "      <td>1</td>\n",
       "      <td>24</td>\n",
       "    </tr>\n",
       "    <tr>\n",
       "      <th>1</th>\n",
       "      <td>29</td>\n",
       "      <td>1</td>\n",
       "      <td>11</td>\n",
       "      <td>49</td>\n",
       "      <td>907</td>\n",
       "      <td>0</td>\n",
       "      <td>0</td>\n",
       "      <td>106</td>\n",
       "      <td>0</td>\n",
       "      <td>322</td>\n",
       "    </tr>\n",
       "    <tr>\n",
       "      <th>2</th>\n",
       "      <td>29</td>\n",
       "      <td>22</td>\n",
       "      <td>12</td>\n",
       "      <td>49</td>\n",
       "      <td>838</td>\n",
       "      <td>0</td>\n",
       "      <td>0</td>\n",
       "      <td>37</td>\n",
       "      <td>3</td>\n",
       "      <td>44</td>\n",
       "    </tr>\n",
       "    <tr>\n",
       "      <th>3</th>\n",
       "      <td>29</td>\n",
       "      <td>18</td>\n",
       "      <td>14</td>\n",
       "      <td>49</td>\n",
       "      <td>919</td>\n",
       "      <td>0</td>\n",
       "      <td>5</td>\n",
       "      <td>118</td>\n",
       "      <td>2</td>\n",
       "      <td>206</td>\n",
       "    </tr>\n",
       "    <tr>\n",
       "      <th>4</th>\n",
       "      <td>29</td>\n",
       "      <td>29</td>\n",
       "      <td>9</td>\n",
       "      <td>49</td>\n",
       "      <td>823</td>\n",
       "      <td>0</td>\n",
       "      <td>0</td>\n",
       "      <td>22</td>\n",
       "      <td>3</td>\n",
       "      <td>91</td>\n",
       "    </tr>\n",
       "  </tbody>\n",
       "</table>\n",
       "</div>"
      ],
      "text/plain": [
       "   연령  상품중분류명  구매시간  구매수량  구매금액  취소여부  구매요일  총구매액  구매계절  eday\n",
       "0  29      27    10    49   860     0     0    59     1    24\n",
       "1  29       1    11    49   907     0     0   106     0   322\n",
       "2  29      22    12    49   838     0     0    37     3    44\n",
       "3  29      18    14    49   919     0     5   118     2   206\n",
       "4  29      29     9    49   823     0     0    22     3    91"
      ]
     },
     "execution_count": 4,
     "metadata": {
      "tags": []
     },
     "output_type": "execute_result"
    }
   ],
   "source": [
    "from sklearn.preprocessing import LabelEncoder\n",
    "\n",
    "X['eday']=X['eday'].astype('str').str.split(' ').str.get(0)\n",
    "X=X.apply(LabelEncoder().fit_transform)\n",
    "X.head()"
   ]
  },
  {
   "cell_type": "code",
   "execution_count": 5,
   "metadata": {
    "colab": {
     "base_uri": "https://localhost:8080/",
     "height": 364
    },
    "id": "yxv2wOLL2kR6",
    "outputId": "37556ba7-5e1c-4af1-a2c8-89ef8bff25c5"
   },
   "outputs": [
    {
     "data": {
      "image/png": "[encoded data removed]",
      "text/plain": [
       "<Figure size 720x432 with 2 Axes>"
      ]
     },
     "metadata": {
      "tags": []
     },
     "output_type": "display_data"
    }
   ],
   "source": [
    "import matplotlib\n",
    "import matplotlib.font_manager as fm\n",
    "import matplotlib.pyplot as plt\n",
    "\n",
    "plt.rc('font', family='NanumBarunGothic')\n",
    "\n",
    "\"\"\"fm.get_fontconfig_fonts()\n",
    "font_location = 'C:/Windows/Fonts/malgun.ttf' # For Windows\n",
    "font_name = fm.FontProperties(fname=font_location).get_name()\n",
    "matplotlib.rc('font', family=font_name)\"\"\"\n",
    "fig, (ax1, ax2) = plt.subplots(1, 2,figsize=(10, 6))\n",
    "m=[a[1] for a in mart.groupby('성별')['구매시간'].value_counts()[:15].index]\n",
    "f=[a[1] for a in mart.groupby('성별')['구매시간'].value_counts()[15:].index]\n",
    "\n",
    "fig.suptitle(\"구매시간\")\n",
    "ax1.pie(mart.groupby('성별')['구매시간'].value_counts()[:15].values,labels=m,autopct='%.1f%%',colors=['#FFEC21','#378AFF','#ff9999', '#8fd9b6','#FFA32F','#F54F52','#93F03B','#9552EA','#BE61CA','#A5C1DC','#EC6B56'])\n",
    "ax2.pie(mart.groupby('성별')['구매시간'].value_counts()[15:],labels=f,autopct='%.1f%%',colors=['#FFEC21','#378AFF','#ff9999', '#8fd9b6','#FFA32F','#F54F52','#93F03B','#9552EA','#BE61CA','#A5C1DC','#EC6B56'])\n",
    "\n",
    "ax1.set_title(\"남자\")\n",
    "ax2.set_title(\"여자\")\n",
    "plt.show()"
   ]
  },
  {
   "cell_type": "code",
   "execution_count": 6,
   "metadata": {
    "colab": {
     "base_uri": "https://localhost:8080/",
     "height": 364
    },
    "id": "iX9EE1RY2kR6",
    "outputId": "40af1bc5-5f37-4ad5-f37a-bcfa4f84636e"
   },
   "outputs": [
    {
     "data": {
      "image/png": "[encoded data removed]",
      "text/plain": [
       "<Figure size 720x432 with 2 Axes>"
      ]
     },
     "metadata": {
      "tags": []
     },
     "output_type": "display_data"
    }
   ],
   "source": [
    "fig, (ax1, ax2) = plt.subplots(1, 2,figsize=(10, 6))\n",
    "m=[a[1] for a in mart.groupby('성별')['취소여부'].value_counts()[:2].index]\n",
    "f=[a[1] for a in mart.groupby('성별')['취소여부'].value_counts()[2:].index]\n",
    "\n",
    "fig.suptitle(\"취소여부\")\n",
    "ax1.pie(mart.groupby('성별')['취소여부'].value_counts()[:2].values,labels=m,autopct='%.1f%%',colors=['#FFEC21','#378AFF','#ff9999', '#8fd9b6','#FFA32F','#F54F52','#93F03B','#9552EA','#BE61CA','#A5C1DC','#EC6B56'])\n",
    "ax2.pie(mart.groupby('성별')['취소여부'].value_counts()[2:],labels=f,autopct='%.1f%%',colors=['#FFEC21','#378AFF','#ff9999', '#8fd9b6','#FFA32F','#F54F52','#93F03B','#9552EA','#BE61CA','#A5C1DC','#EC6B56'])\n",
    "\n",
    "ax1.set_title(\"남자\")\n",
    "ax2.set_title(\"여자\")\n",
    "plt.show()"
   ]
  },
  {
   "cell_type": "code",
   "execution_count": 7,
   "metadata": {
    "colab": {
     "base_uri": "https://localhost:8080/",
     "height": 364
    },
    "id": "hW7iOT2b2kR7",
    "outputId": "a679f307-7749-418b-b38e-37da9e642426"
   },
   "outputs": [
    {
     "data": {
      "image/png": "[encoded data removed]",
      "text/plain": [
       "<Figure size 720x432 with 2 Axes>"
      ]
     },
     "metadata": {
      "tags": []
     },
     "output_type": "display_data"
    }
   ],
   "source": [
    "fig, (ax1, ax2) = plt.subplots(1, 2,figsize=(10, 6))\n",
    "m=[a[1] for a in mart.groupby('성별')['구매요일'].value_counts()[:7].index]\n",
    "f=[a[1] for a in mart.groupby('성별')['구매요일'].value_counts()[7:].index]\n",
    "\n",
    "fig.suptitle(\"구매요일\")\n",
    "ax1.pie(mart.groupby('성별')['구매요일'].value_counts()[:7].values,labels=m,autopct='%.1f%%',colors=['#FFEC21','#378AFF','#ff9999', '#8fd9b6','#FFA32F','#F54F52','#93F03B','#9552EA','#BE61CA','#A5C1DC','#EC6B56'])\n",
    "ax2.pie(mart.groupby('성별')['구매요일'].value_counts()[7:],labels=f,autopct='%.1f%%',colors=['#FFEC21','#378AFF','#ff9999', '#8fd9b6','#FFA32F','#F54F52','#93F03B','#9552EA','#BE61CA','#A5C1DC','#EC6B56'])\n",
    "\n",
    "ax1.set_title(\"남자\")\n",
    "ax2.set_title(\"여자\")\n",
    "plt.show()"
   ]
  },
  {
   "cell_type": "code",
   "execution_count": 8,
   "metadata": {
    "colab": {
     "base_uri": "https://localhost:8080/",
     "height": 364
    },
    "id": "NYsPAKjE2kR7",
    "outputId": "3f506932-c8ba-4cbf-8705-90f8140c9bbd"
   },
   "outputs": [
    {
     "data": {
      "image/png": "[encoded data removed]",
      "text/plain": [
       "<Figure size 720x432 with 2 Axes>"
      ]
     },
     "metadata": {
      "tags": []
     },
     "output_type": "display_data"
    }
   ],
   "source": [
    "fig, (ax1, ax2) = plt.subplots(1, 2,figsize=(10, 6))\n",
    "m=[a[1] for a in mart.groupby('성별')['구매계절'].value_counts()[:4].index]\n",
    "f=[a[1] for a in mart.groupby('성별')['구매계절'].value_counts()[4:].index]\n",
    "\n",
    "fig.suptitle(\"구매계절\")\n",
    "ax1.pie(mart.groupby('성별')['구매계절'].value_counts()[:4].values,labels=m,autopct='%.1f%%',colors=['#FFEC21','#378AFF','#ff9999', '#8fd9b6','#FFA32F','#F54F52','#93F03B','#9552EA','#BE61CA','#A5C1DC','#EC6B56'])\n",
    "ax2.pie(mart.groupby('성별')['구매계절'].value_counts()[4:],labels=f,autopct='%.1f%%',colors=['#FFEC21','#378AFF','#ff9999', '#8fd9b6','#FFA32F','#F54F52','#93F03B','#9552EA','#BE61CA','#A5C1DC','#EC6B56'])\n",
    "\n",
    "ax1.set_title(\"남자\")\n",
    "ax2.set_title(\"여자\")\n",
    "plt.show()"
   ]
  },
  {
   "cell_type": "code",
   "execution_count": 9,
   "metadata": {
    "colab": {
     "base_uri": "https://localhost:8080/",
     "height": 737
    },
    "id": "woKB4H3_2kR7",
    "outputId": "aacb8259-3b17-45ed-c253-7ef3869de2b8"
   },
   "outputs": [
    {
     "data": {
      "image/png": "[encoded data removed]",
      "text/plain": [
       "<Figure size 1080x1080 with 2 Axes>"
      ]
     },
     "metadata": {
      "tags": []
     },
     "output_type": "display_data"
    }
   ],
   "source": [
    "fig, (ax1, ax2) = plt.subplots(1, 2,figsize=(15, 15))\n",
    "m=[a[1] for a in mart.groupby('성별')['상품중분류명'].value_counts()[:31].index]\n",
    "f=[a[1] for a in mart.groupby('성별')['상품중분류명'].value_counts()[31:].index]\n",
    "\n",
    "fig.suptitle(\"상품중분류명\")\n",
    "ax1.pie(mart.groupby('성별')['상품중분류명'].value_counts()[:31].values,labels=m,autopct='%.1f%%',colors=['#FFEC21','#378AFF','#ff9999', '#8fd9b6','#FFA32F','#F54F52','#93F03B','#9552EA','#BE61CA','#A5C1DC','#EC6B56'])\n",
    "ax2.pie(mart.groupby('성별')['상품중분류명'].value_counts()[31:],labels=f,autopct='%.1f%%',colors=['#FFEC21','#378AFF','#ff9999', '#8fd9b6','#FFA32F','#F54F52','#93F03B','#9552EA','#BE61CA','#A5C1DC','#EC6B56'])\n",
    "\n",
    "ax1.set_title(\"남자\")\n",
    "ax2.set_title(\"여자\")\n",
    "plt.show()"
   ]
  },
  {
   "cell_type": "code",
   "execution_count": 10,
   "metadata": {
    "colab": {
     "base_uri": "https://localhost:8080/",
     "height": 389
    },
    "id": "ckkZun6P2kR7",
    "outputId": "a2d423a7-d789-4479-f1bc-5ad518f2aa82"
   },
   "outputs": [
    {
     "data": {
      "image/png": "[encoded data removed]",
      "text/plain": [
       "<Figure size 1296x432 with 5 Axes>"
      ]
     },
     "metadata": {
      "needs_background": "light",
      "tags": []
     },
     "output_type": "display_data"
    }
   ],
   "source": [
    "fig, (ax1, ax2, ax3,ax4,ax5) = plt.subplots(1, 5,figsize=(18, 6))\n",
    "\n",
    "m=mart[mart['성별']=='남']\n",
    "f=mart[mart['성별']=='여']\n",
    "m['eday']=pd.to_numeric(X['eday'])\n",
    "f['eday']=pd.to_numeric(X['eday'])\n",
    "ax1.boxplot([m['연령'],f['연령']])\n",
    "ax1.set(xticklabels=['남자', '여자'])\n",
    "ax2.boxplot([m['구매수량'],f['구매수량']])\n",
    "ax2.set(xticklabels=['남자', '여자'])\n",
    "ax3.boxplot([m['구매금액'],f['구매금액']])\n",
    "ax3.set(xticklabels=['남자', '여자'])\n",
    "\n",
    "ax4.boxplot([m['총구매액'],f['총구매액']])\n",
    "ax4.set(xticklabels=['남자', '여자'])\n",
    "ax5.boxplot([m['eday'],f['eday']])\n",
    "ax5.set(xticklabels=['남자', '여자'])\n",
    "\n",
    "ax1.set_title(\"연령\")\n",
    "ax2.set_title(\"구매수량\")\n",
    "ax3.set_title(\"구매금액\")\n",
    "ax4.set_title(\"총구매액\")\n",
    "ax5.set_title(\"eday\")\n",
    "plt.show()"
   ]
  },
  {
   "cell_type": "code",
   "execution_count": 11,
   "metadata": {
    "colab": {
     "base_uri": "https://localhost:8080/"
    },
    "id": "mRiNGpxb2kR7",
    "outputId": "97ce1baa-b502-4dab-b100-57c2a9222a11"
   },
   "outputs": [
    {
     "data": {
      "text/plain": [
       "여    83150\n",
       "남    18542\n",
       "Name: 성별, dtype: int64"
      ]
     },
     "execution_count": 11,
     "metadata": {
      "tags": []
     },
     "output_type": "execute_result"
    }
   ],
   "source": [
    "mart['성별'].value_counts()"
   ]
  },
  {
   "cell_type": "code",
   "execution_count": 12,
   "metadata": {
    "colab": {
     "base_uri": "https://localhost:8080/",
     "height": 248
    },
    "id": "6Q9xpAHX2kR7",
    "outputId": "2657e79c-d77a-45b6-8cfd-75241ffb5ff0"
   },
   "outputs": [
    {
     "data": {
      "image/png": "[encoded data removed]",
      "text/plain": [
       "<Figure size 432x288 with 1 Axes>"
      ]
     },
     "metadata": {
      "tags": []
     },
     "output_type": "display_data"
    }
   ],
   "source": [
    "import matplotlib.pyplot as plt\n",
    "plt.pie(mart['성별'].value_counts().values, labels=['Female','Male'], autopct='%.1f%%',colors = ['#ff9999', '#8fd9b6'],explode=[0.05, 0.05])\n",
    "plt.show()"
   ]
  },
  {
   "cell_type": "code",
   "execution_count": 13,
   "metadata": {
    "id": "yL1Coafj2kR7"
   },
   "outputs": [],
   "source": [
    "from sklearn.preprocessing import StandardScaler\n",
    "from sklearn.model_selection import train_test_split\n",
    "from sklearn.linear_model import LogisticRegression\n",
    "\n",
    "X=X.astype(float)\n",
    "X=StandardScaler().fit(X).transform(X)\n",
    "X_train, X_test, y_train, y_test=train_test_split(X,y,test_size=0.3,random_state=10)"
   ]
  },
  {
   "cell_type": "code",
   "execution_count": 14,
   "metadata": {
    "colab": {
     "base_uri": "https://localhost:8080/"
    },
    "id": "tJFCSVS42kR8",
    "outputId": "47795a5d-c563-4f54-b2c7-39a652285a50"
   },
   "outputs": [
    {
     "name": "stdout",
     "output_type": "stream",
     "text": [
      "validation scores:  [0.79332434 0.7921443  0.79286076]\n",
      "mean of validation score:  0.7927764666217127\n",
      "[[ 1681  3860]\n",
      " [ 2072 22895]]\n",
      "\n",
      "\n",
      "              precision    recall  f1-score   support\n",
      "\n",
      "           남       0.45      0.30      0.36      5541\n",
      "           여       0.86      0.92      0.89     24967\n",
      "\n",
      "    accuracy                           0.81     30508\n",
      "   macro avg       0.65      0.61      0.62     30508\n",
      "weighted avg       0.78      0.81      0.79     30508\n",
      "\n",
      "validation scores:  [0.79909811 0.80276467 0.80322825]\n",
      "mean of validation score:  0.8016970105641716\n",
      "[[ 1214  4327]\n",
      " [ 1426 23541]]\n",
      "\n",
      "\n",
      "              precision    recall  f1-score   support\n",
      "\n",
      "           남       0.46      0.22      0.30      5541\n",
      "           여       0.84      0.94      0.89     24967\n",
      "\n",
      "    accuracy                           0.81     30508\n",
      "   macro avg       0.65      0.58      0.59     30508\n",
      "weighted avg       0.77      0.81      0.78     30508\n",
      "\n",
      "validation scores:  [0.80723196 0.80870701 0.80963419]\n",
      "mean of validation score:  0.8085243875028096\n",
      "[[  879  4662]\n",
      " [ 1048 23919]]\n",
      "\n",
      "\n",
      "              precision    recall  f1-score   support\n",
      "\n",
      "           남       0.46      0.16      0.24      5541\n",
      "           여       0.84      0.96      0.89     24967\n",
      "\n",
      "    accuracy                           0.81     30508\n",
      "   macro avg       0.65      0.56      0.56     30508\n",
      "weighted avg       0.77      0.81      0.77     30508\n",
      "\n"
     ]
    }
   ],
   "source": [
    "from sklearn.neighbors import KNeighborsClassifier\n",
    "from sklearn import metrics\n",
    "from sklearn.model_selection import cross_val_score\n",
    "\n",
    "numbers=[3,5,7]\n",
    "for i in numbers:\n",
    "    knn=KNeighborsClassifier(n_neighbors=i)\n",
    "    knn.fit(X_train,y_train)\n",
    "    scores=cross_val_score(knn,X_train,y_train,cv=3)\n",
    "    print(\"validation scores: \",scores)\n",
    "    print(\"mean of validation score: \",scores.mean())\n",
    "    knn_pred=knn.predict(X_test)\n",
    "    knn_matrix=metrics.confusion_matrix(y_test,knn_pred)\n",
    "    print(knn_matrix)\n",
    "    print('\\n')\n",
    "    knn_report=metrics.classification_report(y_test,knn_pred)\n",
    "    print(knn_report)"
   ]
  },
  {
   "cell_type": "code",
   "execution_count": 15,
   "metadata": {
    "colab": {
     "base_uri": "https://localhost:8080/"
    },
    "id": "9GEFbEO82kR8",
    "outputId": "eaa83429-fcb5-4b74-9b6f-de1aee338482"
   },
   "outputs": [
    {
     "name": "stdout",
     "output_type": "stream",
     "text": [
      "validation scores:  [0.81751517 0.81747303 0.81726231]\n",
      "mean of validation score:  0.8174168352438751\n",
      "[[    2  5539]\n",
      " [    2 24965]]\n",
      "              precision    recall  f1-score   support\n",
      "\n",
      "           남       0.50      0.00      0.00      5541\n",
      "           여       0.82      1.00      0.90     24967\n",
      "\n",
      "    accuracy                           0.82     30508\n",
      "   macro avg       0.66      0.50      0.45     30508\n",
      "weighted avg       0.76      0.82      0.74     30508\n",
      "\n"
     ]
    }
   ],
   "source": [
    "from sklearn import svm\n",
    "svm_model=svm.SVC(kernel='rbf')\n",
    "svm_model.fit(X_train,y_train)\n",
    "scores=cross_val_score(svm_model,X_train,y_train,cv=3)\n",
    "print(\"validation scores: \",scores)\n",
    "print(\"mean of validation score: \",scores.mean())\n",
    "svm_pred=svm_model.predict(X_test)\n",
    "from sklearn import metrics\n",
    "svm_matrix=metrics.confusion_matrix(y_test,svm_pred)\n",
    "print(svm_matrix)\n",
    "\n",
    "svm_report=metrics.classification_report(y_test,svm_pred)\n",
    "print(svm_report)"
   ]
  },
  {
   "cell_type": "code",
   "execution_count": 16,
   "metadata": {
    "colab": {
     "base_uri": "https://localhost:8080/"
    },
    "id": "sjxkzSUH2kR8",
    "outputId": "505fcb85-7d08-4ad4-dc53-6777ea64cfa2"
   },
   "outputs": [
    {
     "name": "stdout",
     "output_type": "stream",
     "text": [
      "validation scores:  [0.81738874 0.81734659 0.81734659]\n",
      "mean of validation score:  0.8173606428410878\n",
      "accuracy:0.818 \n",
      "ROC accuracy:0.500 \n",
      "최적 하이퍼 파라미터:{'C': 0.01, 'penalty': 'l2'}, 최적 평균 정확도:0.817\n"
     ]
    }
   ],
   "source": [
    "from sklearn.metrics import accuracy_score\n",
    "from sklearn.metrics import roc_auc_score\n",
    "from sklearn.model_selection import cross_val_score\n",
    "\n",
    "X=X.astype(float)\n",
    "num_y=y.replace({'남':1,'여':2})\n",
    "X=preprocessing.StandardScaler().fit(X).transform(X)\n",
    "X_train, X_test, y_train, y_test=train_test_split(X,num_y,test_size=0.3,random_state=10)\n",
    "\n",
    "lr_clf=LogisticRegression()\n",
    "lr_clf.fit(X_train,y_train)\n",
    "scores=cross_val_score(lr_clf,X_train,y_train,cv=3)\n",
    "print(\"validation scores: \",scores)\n",
    "print(\"mean of validation score: \",scores.mean())\n",
    "\n",
    "lr_pred=lr_clf.predict(X_test)\n",
    "\n",
    "print('accuracy:{:0.3f} '.format(accuracy_score(y_test,lr_pred)))\n",
    "print('ROC accuracy:{:0.3f} '.format(roc_auc_score(y_test,lr_pred)))\n",
    "\n",
    "from sklearn.model_selection import GridSearchCV\n",
    "params={'penalty':['l2','l1'],'C':[0.01,0.1,1,5,10]}\n",
    "grid_clf=GridSearchCV(lr_clf,param_grid=params,scoring='accuracy',cv=3)\n",
    "\n",
    "grid_clf.fit(X_train,y_train)\n",
    "grid_clf.get_params()\n",
    "print('최적 하이퍼 파라미터:{0}, 최적 평균 정확도:{1:.3f}'.format(grid_clf.best_params_,grid_clf.best_score_))"
   ]
  },
  {
   "cell_type": "code",
   "execution_count": 17,
   "metadata": {
    "colab": {
     "base_uri": "https://localhost:8080/"
    },
    "id": "Pfb640Rq2kR8",
    "outputId": "62ff95cc-0c6d-4535-ab64-173de53a6721"
   },
   "outputs": [
    {
     "name": "stdout",
     "output_type": "stream",
     "text": [
      "[[    0  5541]\n",
      " [    0 24967]] \n",
      "\n",
      "              precision    recall  f1-score   support\n",
      "\n",
      "           1       0.00      0.00      0.00      5541\n",
      "           2       0.82      1.00      0.90     24967\n",
      "\n",
      "    accuracy                           0.82     30508\n",
      "   macro avg       0.41      0.50      0.45     30508\n",
      "weighted avg       0.67      0.82      0.74     30508\n",
      "\n"
     ]
    }
   ],
   "source": [
    "from sklearn import metrics\n",
    "logistic_matrix=metrics.confusion_matrix(y_test,lr_pred)\n",
    "print(logistic_matrix,'\\n')\n",
    "logistic_report=metrics.classification_report(y_test,lr_pred)\n",
    "print(logistic_report)"
   ]
  },
  {
   "cell_type": "code",
   "execution_count": 18,
   "metadata": {
    "colab": {
     "base_uri": "https://localhost:8080/"
    },
    "id": "udGIN_nn2kR8",
    "outputId": "f723c0b4-c568-4be4-815f-a6bab630602b"
   },
   "outputs": [
    {
     "name": "stdout",
     "output_type": "stream",
     "text": [
      "validation scores:  [0.7607468  0.75939818 0.76192684]\n",
      "mean of validation score:  0.7606906046302541\n",
      "[[ 2471  3070]\n",
      " [ 3696 21271]] \n",
      "\n",
      "              precision    recall  f1-score   support\n",
      "\n",
      "           남       0.40      0.45      0.42      5541\n",
      "           여       0.87      0.85      0.86     24967\n",
      "\n",
      "    accuracy                           0.78     30508\n",
      "   macro avg       0.64      0.65      0.64     30508\n",
      "weighted avg       0.79      0.78      0.78     30508\n",
      "\n"
     ]
    }
   ],
   "source": [
    "X=preprocessing.StandardScaler().fit(X).transform(X)\n",
    "X_train, X_test, y_train, y_test=train_test_split(X,y,test_size=0.3,random_state=10)\n",
    "\n",
    "from sklearn.tree import DecisionTreeClassifier\n",
    "from sklearn.metrics import accuracy_score\n",
    "dt_clf=DecisionTreeClassifier(random_state=156)\n",
    "dt_clf.fit(X_train,y_train)\n",
    "scores=cross_val_score(dt_clf,X_train,y_train,cv=3)\n",
    "print(\"validation scores: \",scores)\n",
    "print(\"mean of validation score: \",scores.mean())\n",
    "\n",
    "dt_pred=dt_clf.predict(X_test)\n",
    "from sklearn import metrics\n",
    "dt_matrix=metrics.confusion_matrix(y_test,dt_pred)\n",
    "print(dt_matrix,'\\n')\n",
    "dt_report=metrics.classification_report(y_test,dt_pred)\n",
    "print(dt_report)"
   ]
  },
  {
   "cell_type": "code",
   "execution_count": 19,
   "metadata": {
    "colab": {
     "base_uri": "https://localhost:8080/"
    },
    "id": "aHaDtp9R2kR8",
    "outputId": "ab68e134-4788-480f-df40-aa2b8c532172"
   },
   "outputs": [
    {
     "name": "stdout",
     "output_type": "stream",
     "text": [
      "validation scores:  [0.83715442 0.83787087 0.83458361]\n",
      "mean of validation score:  0.8365363002922005\n",
      "[[ 1223  4318]\n",
      " [  305 24662]] \n",
      "\n",
      "              precision    recall  f1-score   support\n",
      "\n",
      "           남       0.80      0.22      0.35      5541\n",
      "           여       0.85      0.99      0.91     24967\n",
      "\n",
      "    accuracy                           0.85     30508\n",
      "   macro avg       0.83      0.60      0.63     30508\n",
      "weighted avg       0.84      0.85      0.81     30508\n",
      "\n"
     ]
    }
   ],
   "source": [
    "from sklearn.ensemble import RandomForestClassifier\n",
    "rf_clf=RandomForestClassifier(random_state=0)\n",
    "rf_clf.fit(X_train,y_train)\n",
    "scores=cross_val_score(rf_clf,X_train,y_train,cv=3)\n",
    "print(\"validation scores: \",scores)\n",
    "print(\"mean of validation score: \",scores.mean())\n",
    "rf_pred=rf_clf.predict(X_test)\n",
    "rf_matrix=metrics.confusion_matrix(y_test,rf_pred)\n",
    "print(rf_matrix,'\\n')\n",
    "rf_report=metrics.classification_report(y_test,rf_pred)\n",
    "print(rf_report)"
   ]
  },
  {
   "cell_type": "code",
   "execution_count": 20,
   "metadata": {
    "colab": {
     "base_uri": "https://localhost:8080/"
    },
    "id": "5dB9oMlw2kR8",
    "outputId": "bba54784-d722-4523-da5d-099d21395eae"
   },
   "outputs": [
    {
     "name": "stdout",
     "output_type": "stream",
     "text": [
      "validation scores:  [0.82349966 0.82497471 0.82295179]\n",
      "mean of validation score:  0.8238087210609125\n",
      "[[  302  5239]\n",
      " [  121 24846]] \n",
      "\n",
      "              precision    recall  f1-score   support\n",
      "\n",
      "           남       0.71      0.05      0.10      5541\n",
      "           여       0.83      1.00      0.90     24967\n",
      "\n",
      "    accuracy                           0.82     30508\n",
      "   macro avg       0.77      0.52      0.50     30508\n",
      "weighted avg       0.81      0.82      0.76     30508\n",
      "\n"
     ]
    }
   ],
   "source": [
    "from sklearn.ensemble import GradientBoostingClassifier\n",
    "gb_clf=GradientBoostingClassifier(random_state=0)\n",
    "gb_clf.fit(X_train,y_train)\n",
    "scores=cross_val_score(gb_clf,X_train,y_train,cv=3)\n",
    "print(\"validation scores: \",scores)\n",
    "print(\"mean of validation score: \",scores.mean())\n",
    "gb_pred=gb_clf.predict(X_test)\n",
    "gb_accuracy=accuracy_score(y_test,gb_pred)\n",
    "gb_matrix=metrics.confusion_matrix(y_test,gb_pred)\n",
    "print(gb_matrix,'\\n')\n",
    "gb_report=metrics.classification_report(y_test,gb_pred)\n",
    "print(gb_report)"
   ]
  },
  {
   "cell_type": "code",
   "execution_count": 21,
   "metadata": {
    "colab": {
     "base_uri": "https://localhost:8080/"
    },
    "id": "UQPOjhpD2kR8",
    "outputId": "8a4accbf-859f-450a-aa80-858b7bf2c35b"
   },
   "outputs": [
    {
     "name": "stdout",
     "output_type": "stream",
     "text": [
      "validation scores:  [0.825059   0.82573331 0.82438469]\n",
      "mean of validation score:  0.8250590020229266\n",
      "[[  360  5181]\n",
      " [  184 24783]] \n",
      "\n",
      "              precision    recall  f1-score   support\n",
      "\n",
      "           남       0.66      0.06      0.12      5541\n",
      "           여       0.83      0.99      0.90     24967\n",
      "\n",
      "    accuracy                           0.82     30508\n",
      "   macro avg       0.74      0.53      0.51     30508\n",
      "weighted avg       0.80      0.82      0.76     30508\n",
      "\n"
     ]
    }
   ],
   "source": [
    "from xgboost import XGBClassifier\n",
    "xgb_wrapper=XGBClassifier(n_estimators=400,learning_rate=0.1,max_depth=3)\n",
    "xgb_wrapper.fit(X_train,y_train)\n",
    "scores=cross_val_score(xgb_wrapper,X_train,y_train,cv=3)\n",
    "print(\"validation scores: \",scores)\n",
    "print(\"mean of validation score: \",scores.mean())\n",
    "xgb_pred=xgb_wrapper.predict(X_test)\n",
    "xgb_matrix=metrics.confusion_matrix(y_test,xgb_pred)\n",
    "print(xgb_matrix,'\\n')\n",
    "xgb_report=metrics.classification_report(y_test,xgb_pred)\n",
    "print(xgb_report)"
   ]
  },
  {
   "cell_type": "code",
   "execution_count": 22,
   "metadata": {
    "colab": {
     "base_uri": "https://localhost:8080/"
    },
    "id": "uEt55U5L2kR8",
    "outputId": "d36492cc-7a4e-4b9d-d839-c6662dbaf579"
   },
   "outputs": [
    {
     "name": "stdout",
     "output_type": "stream",
     "text": [
      "validation scores:  [0.82918914 0.82796696 0.82939987]\n",
      "mean of validation score:  0.8288519892110587\n",
      "[[  693  4848]\n",
      " [  216 24751]] \n",
      "\n",
      "              precision    recall  f1-score   support\n",
      "\n",
      "           남       0.76      0.13      0.21      5541\n",
      "           여       0.84      0.99      0.91     24967\n",
      "\n",
      "    accuracy                           0.83     30508\n",
      "   macro avg       0.80      0.56      0.56     30508\n",
      "weighted avg       0.82      0.83      0.78     30508\n",
      "\n"
     ]
    }
   ],
   "source": [
    "from lightgbm import LGBMClassifier\n",
    "lgbm_wrapper=LGBMClassifier(n_estimators=400)\n",
    "lgbm_wrapper.fit(X_train,y_train,eval_metric=\"logloss\",verbose=True)\n",
    "scores=cross_val_score(lgbm_wrapper,X_train,y_train,cv=3)\n",
    "print(\"validation scores: \",scores)\n",
    "print(\"mean of validation score: \",scores.mean())\n",
    "lgbm_pred=lgbm_wrapper.predict(X_test)\n",
    "lgbm_matrix=metrics.confusion_matrix(y_test,lgbm_pred)\n",
    "print(lgbm_matrix,'\\n')\n",
    "lgbm_report=metrics.classification_report(y_test,lgbm_pred)\n",
    "print(lgbm_report)"
   ]
  },
  {
   "cell_type": "code",
   "execution_count": 23,
   "metadata": {
    "colab": {
     "base_uri": "https://localhost:8080/"
    },
    "id": "rfrKqL4a2kR8",
    "outputId": "2abafcaf-2cad-4a5b-d5c0-81f9fbf898e5"
   },
   "outputs": [
    {
     "name": "stdout",
     "output_type": "stream",
     "text": [
      "validation scores:  [0.78898348 0.57307822 0.21122724]\n",
      "mean of validation score:  0.5244296471117106\n",
      "[[ 3249  2292]\n",
      " [14975  9992]] \n",
      "\n",
      "              precision    recall  f1-score   support\n",
      "\n",
      "           0       0.18      0.59      0.27      5541\n",
      "           1       0.81      0.40      0.54     24967\n",
      "\n",
      "    accuracy                           0.43     30508\n",
      "   macro avg       0.50      0.49      0.40     30508\n",
      "weighted avg       0.70      0.43      0.49     30508\n",
      "\n"
     ]
    }
   ],
   "source": [
    "from sklearn.cluster import KMeans\n",
    "from sklearn import metrics\n",
    "\n",
    "y_test=pd.Series(y_test)\n",
    "y_train=pd.Series(y_train)\n",
    "num_y_test=y_test.replace({'남':0,'여':1})\n",
    "num_y_train=y_train.replace({'남':0,'여':1})\n",
    "kmeans=KMeans(n_clusters=2,random_state=1)\n",
    "kmeans.fit(X_train,num_y_train)\n",
    "scores=cross_val_score(kmeans,X_train,num_y_train,cv=3,scoring='accuracy')\n",
    "print(\"validation scores: \",scores)\n",
    "print(\"mean of validation score: \",scores.mean())\n",
    "km_pred=kmeans.predict(X_test)\n",
    "km_matrix=metrics.confusion_matrix(num_y_test,km_pred)\n",
    "print(km_matrix,'\\n')\n",
    "km_report=metrics.classification_report(num_y_test,km_pred)\n",
    "print(km_report)"
   ]
  },
  {
   "cell_type": "code",
   "execution_count": 24,
   "metadata": {
    "colab": {
     "base_uri": "https://localhost:8080/"
    },
    "id": "KsbINVIS2kR8",
    "outputId": "c3732ab0-2a65-485c-936f-f4cddee25cfc"
   },
   "outputs": [
    {
     "name": "stdout",
     "output_type": "stream",
     "text": [
      "validation scores:  [0.83336143 0.83230782 0.83192852]\n",
      "mean of validation score:  0.8325325915936165\n",
      "[[  810  4731]\n",
      " [  161 24806]] \n",
      "\n",
      "              precision    recall  f1-score   support\n",
      "\n",
      "           남       0.83      0.15      0.25      5541\n",
      "           여       0.84      0.99      0.91     24967\n",
      "\n",
      "    accuracy                           0.84     30508\n",
      "   macro avg       0.84      0.57      0.58     30508\n",
      "weighted avg       0.84      0.84      0.79     30508\n",
      "\n"
     ]
    }
   ],
   "source": [
    "from sklearn.ensemble import VotingClassifier\n",
    "from lightgbm import LGBMClassifier\n",
    "from sklearn.ensemble import RandomForestClassifier\n",
    "\n",
    "lgbm_clf=LGBMClassifier(n_estimators=400)\n",
    "rf_clf=RandomForestClassifier(random_state=0)\n",
    "vo_clf=VotingClassifier(estimators=[('LGBM',lgbm_clf),('RF',rf_clf)],voting='soft')\n",
    "vo_clf.fit(X_train,y_train)\n",
    "scores=cross_val_score(vo_clf,X_train,y_train,cv=3)\n",
    "print(\"validation scores: \",scores)\n",
    "print(\"mean of validation score: \",scores.mean())\n",
    "vo_pred=vo_clf.predict(X_test)\n",
    "vo_matrix=metrics.confusion_matrix(y_test,vo_pred)\n",
    "print(vo_matrix,'\\n')\n",
    "vo_report=metrics.classification_report(y_test,vo_pred)\n",
    "print(vo_report)"
   ]
  },
  {
   "cell_type": "code",
   "execution_count": 25,
   "metadata": {
    "colab": {
     "base_uri": "https://localhost:8080/"
    },
    "id": "FhC2H8AV2kR8",
    "outputId": "0ed320eb-41ab-46c7-febc-089331f58665"
   },
   "outputs": [
    {
     "name": "stdout",
     "output_type": "stream",
     "text": [
      "SMOTE 적용 전 학습용 피처/레이블 데이터 세트:  (101692, 10)\n",
      "0         남\n",
      "1         남\n",
      "2         남\n",
      "3         남\n",
      "4         남\n",
      "         ..\n",
      "101687    여\n",
      "101688    여\n",
      "101689    여\n",
      "101690    여\n",
      "101691    여\n",
      "Name: 성별, Length: 101692, dtype: object\n",
      "SMOTE 적용 후 학습용 피처/레이블 데이터 세트:  (166300, 10) (166300,)\n",
      "SMOTE 적용 후 레이블 값 분포: \n",
      " 여    83150\n",
      "남    83150\n",
      "dtype: int64\n"
     ]
    }
   ],
   "source": [
    "#SMOTE 진행\n",
    "from sklearn.preprocessing import MinMaxScaler\n",
    "\n",
    "scaler=MinMaxScaler(feature_range=(0,1))\n",
    "X=scaler.fit_transform(X)\n",
    "\n",
    "from imblearn.over_sampling import SMOTE\n",
    "\n",
    "smote=SMOTE(random_state=0)\n",
    "X_train_sm, y_train_sm=smote.fit_sample(X,y)\n",
    "X_train_sm, num_y_train_sm=smote.fit_sample(X,num_y)\n",
    "print('SMOTE 적용 전 학습용 피처/레이블 데이터 세트: ', X.shape)\n",
    "print(y)\n",
    "print('SMOTE 적용 후 학습용 피처/레이블 데이터 세트: ', X_train_sm.shape, y_train_sm.shape)\n",
    "print('SMOTE 적용 후 레이블 값 분포: \\n', pd.Series(y_train_sm).value_counts())"
   ]
  },
  {
   "cell_type": "code",
   "execution_count": 26,
   "metadata": {
    "colab": {
     "base_uri": "https://localhost:8080/",
     "height": 248
    },
    "id": "PU8diyEm2kR8",
    "outputId": "187c643f-93b6-4fa9-c694-6adfdcf06fcd"
   },
   "outputs": [
    {
     "data": {
      "image/png": "[encoded data removed]",
      "text/plain": [
       "<Figure size 432x288 with 1 Axes>"
      ]
     },
     "metadata": {
      "tags": []
     },
     "output_type": "display_data"
    }
   ],
   "source": [
    "import matplotlib.pyplot as plt\n",
    "plt.pie(pd.Series(y_train_sm).value_counts(), labels=['Female','Male'], autopct='%.1f%%',colors = ['#ff9999', '#8fd9b6'],explode=[0.01, 0.01])\n",
    "plt.show()"
   ]
  },
  {
   "cell_type": "code",
   "execution_count": 27,
   "metadata": {
    "id": "xoeci8AD2kR8"
   },
   "outputs": [],
   "source": [
    "from sklearn.model_selection import train_test_split\n",
    "X_train_sm=preprocessing.StandardScaler().fit(X_train_sm).transform(X_train_sm)\n",
    "X_train, X_test, y_train, y_test=train_test_split(X_train_sm,y_train_sm,test_size=0.3,random_state=10)"
   ]
  },
  {
   "cell_type": "code",
   "execution_count": 28,
   "metadata": {
    "colab": {
     "base_uri": "https://localhost:8080/"
    },
    "id": "yyBxrIJK2kR9",
    "outputId": "a98e733f-2fa1-4866-b314-d27ef4bdc9de"
   },
   "outputs": [
    {
     "name": "stdout",
     "output_type": "stream",
     "text": [
      "validation scores:  [0.78968663 0.78803185 0.79200062]\n",
      "mean of validation score:  0.7899063673201363\n",
      "[[22996  1893]\n",
      " [ 6852 18149]]\n",
      "\n",
      "\n",
      "              precision    recall  f1-score   support\n",
      "\n",
      "           남       0.77      0.92      0.84     24889\n",
      "           여       0.91      0.73      0.81     25001\n",
      "\n",
      "    accuracy                           0.82     49890\n",
      "   macro avg       0.84      0.82      0.82     49890\n",
      "weighted avg       0.84      0.82      0.82     49890\n",
      "\n",
      "validation scores:  [0.75793733 0.75512203 0.76035358]\n",
      "mean of validation score:  0.7578043112016593\n",
      "[[22553  2336]\n",
      " [ 7906 17095]]\n",
      "\n",
      "\n",
      "              precision    recall  f1-score   support\n",
      "\n",
      "           남       0.74      0.91      0.81     24889\n",
      "           여       0.88      0.68      0.77     25001\n",
      "\n",
      "    accuracy                           0.79     49890\n",
      "   macro avg       0.81      0.79      0.79     49890\n",
      "weighted avg       0.81      0.79      0.79     49890\n",
      "\n",
      "validation scores:  [0.73778476 0.73587094 0.74009742]\n",
      "mean of validation score:  0.7379177058065575\n",
      "[[22104  2785]\n",
      " [ 8496 16505]]\n",
      "\n",
      "\n",
      "              precision    recall  f1-score   support\n",
      "\n",
      "           남       0.72      0.89      0.80     24889\n",
      "           여       0.86      0.66      0.75     25001\n",
      "\n",
      "    accuracy                           0.77     49890\n",
      "   macro avg       0.79      0.77      0.77     49890\n",
      "weighted avg       0.79      0.77      0.77     49890\n",
      "\n"
     ]
    }
   ],
   "source": [
    "from sklearn.neighbors import KNeighborsClassifier\n",
    "from sklearn import metrics\n",
    "numbers=[3,5,7]\n",
    "for i in numbers:\n",
    "    knn=KNeighborsClassifier(n_neighbors=i)\n",
    "    knn.fit(X_train,y_train)\n",
    "    scores=cross_val_score(knn,X_train,y_train,cv=3)\n",
    "    print(\"validation scores: \",scores)\n",
    "    print(\"mean of validation score: \",scores.mean())\n",
    "    knn_pred=knn.predict(X_test)\n",
    "    knn_matrix=metrics.confusion_matrix(y_test,knn_pred)\n",
    "    print(knn_matrix)\n",
    "    print('\\n')\n",
    "    knn_report=metrics.classification_report(y_test,knn_pred)\n",
    "    print(knn_report)"
   ]
  },
  {
   "cell_type": "code",
   "execution_count": 29,
   "metadata": {
    "colab": {
     "base_uri": "https://localhost:8080/"
    },
    "id": "v69hSSI82kR9",
    "outputId": "413e0cfa-8779-431e-c4c3-5dd817ff3898"
   },
   "outputs": [
    {
     "name": "stdout",
     "output_type": "stream",
     "text": [
      "validation scores:  [0.59535099 0.59075329 0.58969667]\n",
      "mean of validation score:  0.5919336533172285\n",
      "[[14518 10371]\n",
      " [ 9604 15397]]\n",
      "              precision    recall  f1-score   support\n",
      "\n",
      "           남       0.60      0.58      0.59     24889\n",
      "           여       0.60      0.62      0.61     25001\n",
      "\n",
      "    accuracy                           0.60     49890\n",
      "   macro avg       0.60      0.60      0.60     49890\n",
      "weighted avg       0.60      0.60      0.60     49890\n",
      "\n"
     ]
    }
   ],
   "source": [
    "from sklearn import svm\n",
    "svm_model=svm.SVC(kernel='rbf')\n",
    "svm_model.fit(X_train,y_train)\n",
    "scores=cross_val_score(svm_model,X_train,y_train,cv=3)\n",
    "print(\"validation scores: \",scores)\n",
    "print(\"mean of validation score: \",scores.mean())\n",
    "svm_pred=svm_model.predict(X_test)\n",
    "from sklearn import metrics\n",
    "svm_matrix=metrics.confusion_matrix(y_test,svm_pred)\n",
    "print(svm_matrix)\n",
    "\n",
    "svm_report=metrics.classification_report(y_test,svm_pred)\n",
    "print(svm_report)"
   ]
  },
  {
   "cell_type": "code",
   "execution_count": 30,
   "metadata": {
    "colab": {
     "base_uri": "https://localhost:8080/"
    },
    "id": "I50Dzs6M2kR9",
    "outputId": "7b8f0419-c27f-4cdf-db71-99292e2ab3b5"
   },
   "outputs": [
    {
     "name": "stdout",
     "output_type": "stream",
     "text": [
      "validation scores:  [0.56239048 0.56047213 0.5550344 ]\n",
      "mean of validation score:  0.5592990027362558\n",
      "accuracy:0.562 \n",
      "ROC accuracy:0.562 \n",
      "최적 하이퍼 파라미터:{'C': 0.1, 'penalty': 'l2'}, 최적 평균 정확도:0.559\n"
     ]
    }
   ],
   "source": [
    "from sklearn.metrics import accuracy_score\n",
    "from sklearn.metrics import roc_auc_score\n",
    "\n",
    "X=X.astype(float)\n",
    "num_y=y.replace({'남':1,'여':2})\n",
    "X=preprocessing.StandardScaler().fit(X).transform(X)\n",
    "\n",
    "X_train, X_test, y_train, y_test=train_test_split(X_train_sm,num_y_train_sm,test_size=0.3,random_state=10)\n",
    "\n",
    "lr_clf=LogisticRegression()\n",
    "lr_clf.fit(X_train,y_train)\n",
    "scores=cross_val_score(lr_clf,X_train,y_train,cv=3)\n",
    "print(\"validation scores: \",scores)\n",
    "print(\"mean of validation score: \",scores.mean())\n",
    "\n",
    "lr_pred=lr_clf.predict(X_test)\n",
    "\n",
    "print('accuracy:{:0.3f} '.format(accuracy_score(y_test,lr_pred)))\n",
    "print('ROC accuracy:{:0.3f} '.format(roc_auc_score(y_test,lr_pred)))\n",
    "\n",
    "from sklearn.model_selection import GridSearchCV\n",
    "params={'penalty':['l2','l1'],'C':[0.01,0.1,1,5,10]}\n",
    "grid_clf=GridSearchCV(lr_clf,param_grid=params,scoring='accuracy',cv=3)\n",
    "\n",
    "grid_clf.fit(X_train,y_train)\n",
    "grid_clf.get_params()\n",
    "print('최적 하이퍼 파라미터:{0}, 최적 평균 정확도:{1:.3f}'.format(grid_clf.best_params_,grid_clf.best_score_))"
   ]
  },
  {
   "cell_type": "code",
   "execution_count": 31,
   "metadata": {
    "colab": {
     "base_uri": "https://localhost:8080/"
    },
    "id": "HezRdeXN2kR9",
    "outputId": "4923e429-25ba-4573-bfb5-f4c567a59cc1"
   },
   "outputs": [
    {
     "name": "stdout",
     "output_type": "stream",
     "text": [
      "[[12775 12114]\n",
      " [ 9719 15282]] \n",
      "\n",
      "              precision    recall  f1-score   support\n",
      "\n",
      "           1       0.57      0.51      0.54     24889\n",
      "           2       0.56      0.61      0.58     25001\n",
      "\n",
      "    accuracy                           0.56     49890\n",
      "   macro avg       0.56      0.56      0.56     49890\n",
      "weighted avg       0.56      0.56      0.56     49890\n",
      "\n"
     ]
    }
   ],
   "source": [
    "from sklearn import metrics\n",
    "logistic_matrix=metrics.confusion_matrix(y_test,lr_pred)\n",
    "print(logistic_matrix,'\\n')\n",
    "logistic_report=metrics.classification_report(y_test,lr_pred)\n",
    "print(logistic_report)"
   ]
  },
  {
   "cell_type": "code",
   "execution_count": 32,
   "metadata": {
    "colab": {
     "base_uri": "https://localhost:8080/"
    },
    "id": "s4yFFSix2kR9",
    "outputId": "99117e71-3e08-4fb1-b223-23aadf078d30"
   },
   "outputs": [
    {
     "name": "stdout",
     "output_type": "stream",
     "text": [
      "validation scores:  [0.84212968 0.83697137 0.8413267 ]\n",
      "mean of validation score:  0.8401425823632421\n",
      "[[21768  3121]\n",
      " [ 3884 21117]] \n",
      "\n",
      "              precision    recall  f1-score   support\n",
      "\n",
      "           남       0.85      0.87      0.86     24889\n",
      "           여       0.87      0.84      0.86     25001\n",
      "\n",
      "    accuracy                           0.86     49890\n",
      "   macro avg       0.86      0.86      0.86     49890\n",
      "weighted avg       0.86      0.86      0.86     49890\n",
      "\n"
     ]
    }
   ],
   "source": [
    "X=preprocessing.StandardScaler().fit(X).transform(X)\n",
    "X_train, X_test, y_train, y_test=train_test_split(X_train_sm,y_train_sm,test_size=0.3,random_state=10)\n",
    "\n",
    "from sklearn.tree import DecisionTreeClassifier\n",
    "from sklearn.metrics import accuracy_score\n",
    "dt_clf=DecisionTreeClassifier(random_state=156)\n",
    "dt_clf.fit(X_train,y_train)\n",
    "scores=cross_val_score(dt_clf,X_train,y_train,cv=3)\n",
    "print(\"validation scores: \",scores)\n",
    "print(\"mean of validation score: \",scores.mean())\n",
    "\n",
    "dt_pred=dt_clf.predict(X_test)\n",
    "from sklearn import metrics\n",
    "dt_matrix=metrics.confusion_matrix(y_test,dt_pred)\n",
    "print(dt_matrix,'\\n')\n",
    "dt_report=metrics.classification_report(y_test,dt_pred)\n",
    "print(dt_report)"
   ]
  },
  {
   "cell_type": "code",
   "execution_count": 33,
   "metadata": {
    "colab": {
     "base_uri": "https://localhost:8080/"
    },
    "id": "h4HVa6aK2kR9",
    "outputId": "addd760a-ea44-45aa-8a3f-e5f3e21d672c"
   },
   "outputs": [
    {
     "name": "stdout",
     "output_type": "stream",
     "text": [
      "validation scores:  [0.89879909 0.89472463 0.89423498]\n",
      "mean of validation score:  0.8959195698005061\n",
      "[[21346  3543]\n",
      " [ 1061 23940]] \n",
      "\n",
      "              precision    recall  f1-score   support\n",
      "\n",
      "           남       0.95      0.86      0.90     24889\n",
      "           여       0.87      0.96      0.91     25001\n",
      "\n",
      "    accuracy                           0.91     49890\n",
      "   macro avg       0.91      0.91      0.91     49890\n",
      "weighted avg       0.91      0.91      0.91     49890\n",
      "\n"
     ]
    }
   ],
   "source": [
    "from sklearn.ensemble import RandomForestClassifier\n",
    "rf_clf=RandomForestClassifier(random_state=0)\n",
    "rf_clf.fit(X_train,y_train)\n",
    "scores=cross_val_score(rf_clf,X_train,y_train,cv=3)\n",
    "print(\"validation scores: \",scores)\n",
    "print(\"mean of validation score: \",scores.mean())\n",
    "rf_pred=rf_clf.predict(X_test)\n",
    "rf_matrix=metrics.confusion_matrix(y_test,rf_pred)\n",
    "print(rf_matrix,'\\n')\n",
    "rf_report=metrics.classification_report(y_test,rf_pred)\n",
    "print(rf_report)"
   ]
  },
  {
   "cell_type": "code",
   "execution_count": 34,
   "metadata": {
    "colab": {
     "base_uri": "https://localhost:8080/"
    },
    "id": "_LDnact92kR9",
    "outputId": "2b7dd80e-4efe-4c9b-d6c1-d130ddaafce8"
   },
   "outputs": [
    {
     "name": "stdout",
     "output_type": "stream",
     "text": [
      "validation scores:  [0.80893722 0.80532433 0.8024895 ]\n",
      "mean of validation score:  0.8055836839314575\n",
      "[[16427  8462]\n",
      " [ 1276 23725]] \n",
      "\n",
      "              precision    recall  f1-score   support\n",
      "\n",
      "           남       0.93      0.66      0.77     24889\n",
      "           여       0.74      0.95      0.83     25001\n",
      "\n",
      "    accuracy                           0.80     49890\n",
      "   macro avg       0.83      0.80      0.80     49890\n",
      "weighted avg       0.83      0.80      0.80     49890\n",
      "\n"
     ]
    }
   ],
   "source": [
    "from sklearn.ensemble import GradientBoostingClassifier\n",
    "gb_clf=GradientBoostingClassifier(random_state=0)\n",
    "gb_clf.fit(X_train,y_train)\n",
    "scores=cross_val_score(gb_clf,X_train,y_train,cv=3)\n",
    "print(\"validation scores: \",scores)\n",
    "print(\"mean of validation score: \",scores.mean())\n",
    "gb_pred=gb_clf.predict(X_test)\n",
    "gb_accuracy=accuracy_score(y_test,gb_pred)\n",
    "gb_matrix=metrics.confusion_matrix(y_test,gb_pred)\n",
    "print(gb_matrix,'\\n')\n",
    "gb_report=metrics.classification_report(y_test,gb_pred)\n",
    "print(gb_report)"
   ]
  },
  {
   "cell_type": "code",
   "execution_count": 35,
   "metadata": {
    "colab": {
     "base_uri": "https://localhost:8080/"
    },
    "id": "IncCXw-y2kR9",
    "outputId": "e490b92c-364e-4857-8554-9e06728cf69b"
   },
   "outputs": [
    {
     "name": "stdout",
     "output_type": "stream",
     "text": [
      "validation scores:  [0.8496289  0.8509909  0.84774373]\n",
      "mean of validation score:  0.8494545127189115\n",
      "[[17833  7056]\n",
      " [  493 24508]] \n",
      "\n",
      "              precision    recall  f1-score   support\n",
      "\n",
      "           남       0.97      0.72      0.83     24889\n",
      "           여       0.78      0.98      0.87     25001\n",
      "\n",
      "    accuracy                           0.85     49890\n",
      "   macro avg       0.87      0.85      0.85     49890\n",
      "weighted avg       0.87      0.85      0.85     49890\n",
      "\n"
     ]
    }
   ],
   "source": [
    "from xgboost import XGBClassifier\n",
    "xgb_wrapper=XGBClassifier(n_estimators=400,learning_rate=0.1,max_depth=3)\n",
    "xgb_wrapper.fit(X_train,y_train)\n",
    "scores=cross_val_score(xgb_wrapper,X_train,y_train,cv=3)\n",
    "print(\"validation scores: \",scores)\n",
    "print(\"mean of validation score: \",scores.mean())\n",
    "xgb_pred=xgb_wrapper.predict(X_test)\n",
    "xgb_matrix=metrics.confusion_matrix(y_test,xgb_pred)\n",
    "print(xgb_matrix,'\\n')\n",
    "xgb_report=metrics.classification_report(y_test,xgb_pred)\n",
    "print(xgb_report)"
   ]
  },
  {
   "cell_type": "code",
   "execution_count": 36,
   "metadata": {
    "colab": {
     "base_uri": "https://localhost:8080/"
    },
    "id": "1AecI_gL2kR9",
    "outputId": "800a5218-c2d4-4787-e113-1a2123f96ee6"
   },
   "outputs": [
    {
     "name": "stdout",
     "output_type": "stream",
     "text": [
      "validation scores:  [0.87926502 0.88467387 0.88238023]\n",
      "mean of validation score:  0.8821063726599814\n",
      "[[19484  5405]\n",
      " [  398 24603]] \n",
      "\n",
      "              precision    recall  f1-score   support\n",
      "\n",
      "           남       0.98      0.78      0.87     24889\n",
      "           여       0.82      0.98      0.89     25001\n",
      "\n",
      "    accuracy                           0.88     49890\n",
      "   macro avg       0.90      0.88      0.88     49890\n",
      "weighted avg       0.90      0.88      0.88     49890\n",
      "\n"
     ]
    }
   ],
   "source": [
    "from lightgbm import LGBMClassifier\n",
    "lgbm_wrapper=LGBMClassifier(n_estimators=400)\n",
    "lgbm_wrapper.fit(X_train,y_train,eval_metric=\"logloss\",verbose=True)\n",
    "scores=cross_val_score(lgbm_wrapper,X_train,y_train,cv=3)\n",
    "print(\"validation scores: \",scores)\n",
    "print(\"mean of validation score: \",scores.mean())\n",
    "lgbm_pred=lgbm_wrapper.predict(X_test)\n",
    "lgbm_matrix=metrics.confusion_matrix(y_test,lgbm_pred)\n",
    "print(lgbm_matrix,'\\n')\n",
    "lgbm_report=metrics.classification_report(y_test,lgbm_pred)\n",
    "print(lgbm_report)"
   ]
  },
  {
   "cell_type": "code",
   "execution_count": 37,
   "metadata": {
    "colab": {
     "base_uri": "https://localhost:8080/"
    },
    "id": "dm5WVZe-2kR9",
    "outputId": "baa3282e-a63b-43e3-f4b6-70d8b10448ce"
   },
   "outputs": [
    {
     "name": "stdout",
     "output_type": "stream",
     "text": [
      "validation scores:  [0.49819606 0.50248692 0.49985826]\n",
      "mean of validation score:  0.5001804139193511\n",
      "[[ 1131 23758]\n",
      " [ 1093 23908]] \n",
      "\n",
      "              precision    recall  f1-score   support\n",
      "\n",
      "           0       0.51      0.05      0.08     24889\n",
      "           1       0.50      0.96      0.66     25001\n",
      "\n",
      "    accuracy                           0.50     49890\n",
      "   macro avg       0.51      0.50      0.37     49890\n",
      "weighted avg       0.51      0.50      0.37     49890\n",
      "\n"
     ]
    }
   ],
   "source": [
    "from sklearn.cluster import KMeans\n",
    "from sklearn import metrics\n",
    "\n",
    "y_test=pd.Series(y_test)\n",
    "y_train=pd.Series(y_train)\n",
    "num_y_test=y_test.replace({'남':0,'여':1})\n",
    "num_y_train=y_train.replace({'남':0,'여':1})\n",
    "kmeans=KMeans(n_clusters=2,random_state=12)\n",
    "kmeans.fit(X_train,num_y_train)\n",
    "scores=cross_val_score(kmeans,X_train,num_y_train,cv=3,scoring='accuracy')\n",
    "print(\"validation scores: \",scores)\n",
    "print(\"mean of validation score: \",scores.mean())\n",
    "km_pred=kmeans.predict(X_test)\n",
    "km_matrix=metrics.confusion_matrix(num_y_test,km_pred)\n",
    "print(km_matrix,'\\n')\n",
    "km_report=metrics.classification_report(num_y_test,km_pred)\n",
    "print(km_report)"
   ]
  },
  {
   "cell_type": "code",
   "execution_count": 38,
   "metadata": {
    "colab": {
     "base_uri": "https://localhost:8080/"
    },
    "id": "KHH-Nezc2kR9",
    "outputId": "88895470-2074-4046-db31-008d65c8d607"
   },
   "outputs": [
    {
     "name": "stdout",
     "output_type": "stream",
     "text": [
      "validation scores:  [0.90132461 0.90302296 0.90178594]\n",
      "mean of validation score:  0.9020445040795324\n",
      "[[20679  4210]\n",
      " [  386 24615]] \n",
      "\n",
      "              precision    recall  f1-score   support\n",
      "\n",
      "           남       0.98      0.83      0.90     24889\n",
      "           여       0.85      0.98      0.91     25001\n",
      "\n",
      "    accuracy                           0.91     49890\n",
      "   macro avg       0.92      0.91      0.91     49890\n",
      "weighted avg       0.92      0.91      0.91     49890\n",
      "\n"
     ]
    }
   ],
   "source": [
    "from sklearn.ensemble import VotingClassifier\n",
    "from lightgbm import LGBMClassifier\n",
    "from sklearn.ensemble import RandomForestClassifier\n",
    "\n",
    "X_train, X_test, y_train, y_test=train_test_split(X_train_sm,y_train_sm,test_size=0.3,random_state=10)\n",
    "lgbm_clf=LGBMClassifier(n_estimators=400)\n",
    "rf_clf=RandomForestClassifier(random_state=0)\n",
    "vo_clf=VotingClassifier(estimators=[('LGBM',lgbm_clf),('RF',rf_clf)],voting='soft')\n",
    "vo_clf.fit(X_train,y_train)\n",
    "scores=cross_val_score(vo_clf,X_train,y_train,cv=3,scoring='accuracy')\n",
    "print(\"validation scores: \",scores)\n",
    "print(\"mean of validation score: \",scores.mean())\n",
    "vo_pred=vo_clf.predict(X_test)\n",
    "vo_matrix=metrics.confusion_matrix(y_test,vo_pred)\n",
    "print(vo_matrix,'\\n')\n",
    "vo_report=metrics.classification_report(y_test,vo_pred)\n",
    "print(vo_report)"
   ]
  },
  {
   "cell_type": "code",
   "execution_count": 39,
   "metadata": {
    "id": "MXqpztdo2kR9"
   },
   "outputs": [],
   "source": [
    "#feature selection\n",
    "from sklearn.feature_selection import SelectPercentile, f_classif\n",
    "from sklearn.preprocessing import LabelEncoder\n",
    "from sklearn.model_selection import train_test_split\n",
    "\n",
    "y=mart['성별']\n",
    "X=mart.drop(['성별','ID'],axis=1)\n",
    "X=X.apply(LabelEncoder().fit_transform)"
   ]
  },
  {
   "cell_type": "code",
   "execution_count": 40,
   "metadata": {
    "id": "BOfB6ubn2kR9"
   },
   "outputs": [],
   "source": [
    "from sklearn.preprocessing import MinMaxScaler\n",
    "\n",
    "scaler=MinMaxScaler(feature_range=(0,1))\n",
    "X_scale=scaler.fit_transform(X)\n",
    "\n",
    "from imblearn.over_sampling import SMOTE\n",
    "\n",
    "smote=SMOTE(random_state=0)\n",
    "X_sm, y_sm=smote.fit_sample(X_scale,y)\n",
    "X_train, X_test, y_train, y_test=train_test_split(X_sm,y_sm,test_size=0.3,random_state=10)"
   ]
  },
  {
   "cell_type": "code",
   "execution_count": 41,
   "metadata": {
    "colab": {
     "base_uri": "https://localhost:8080/"
    },
    "id": "aceUHwNd2kR9",
    "outputId": "c6ccfcad-f21d-4ad0-98a1-28136ceb5046"
   },
   "outputs": [
    {
     "name": "stdout",
     "output_type": "stream",
     "text": [
      "X_train.shape (116410, 21)\n",
      "X_train_selected.shape (116410, 10)\n"
     ]
    }
   ],
   "source": [
    "select=SelectPercentile(score_func=f_classif,percentile=50)\n",
    "select.fit(X_train,y_train)\n",
    "\n",
    "X_train_selected=select.transform(X_train)\n",
    "\n",
    "print(\"X_train.shape\", X_train.shape)\n",
    "print(\"X_train_selected.shape\", X_train_selected.shape)"
   ]
  },
  {
   "cell_type": "code",
   "execution_count": 42,
   "metadata": {
    "colab": {
     "base_uri": "https://localhost:8080/"
    },
    "id": "Y0uEx1LY2kR9",
    "outputId": "5c273ccf-9d3c-4099-c3ea-05ca56027ebe"
   },
   "outputs": [
    {
     "data": {
      "text/plain": [
       "Index(['연령', '상품대분류명', '상품중분류명', '구매일자', '구매시간', '취소여부', '구매월', '구매요일',\n",
       "       '구매시간대', '구매연령대'],\n",
       "      dtype='object')"
      ]
     },
     "execution_count": 42,
     "metadata": {
      "tags": []
     },
     "output_type": "execute_result"
    }
   ],
   "source": [
    "mask=select.get_support()\n",
    "X.columns[mask]"
   ]
  },
  {
   "cell_type": "code",
   "execution_count": 43,
   "metadata": {
    "colab": {
     "base_uri": "https://localhost:8080/"
    },
    "id": "C-zdLszV2kR9",
    "outputId": "f00eb4bd-86b1-4c56-b692-cfd2817b8f23"
   },
   "outputs": [
    {
     "name": "stdout",
     "output_type": "stream",
     "text": [
      "validation scores:  [0.8526956  0.85297529 0.85593897]\n",
      "mean of validation score:  0.8538699525328936\n",
      "[[24130   759]\n",
      " [ 4794 20207]]\n",
      "\n",
      "\n",
      "              precision    recall  f1-score   support\n",
      "\n",
      "           남       0.83      0.97      0.90     24889\n",
      "           여       0.96      0.81      0.88     25001\n",
      "\n",
      "    accuracy                           0.89     49890\n",
      "   macro avg       0.90      0.89      0.89     49890\n",
      "weighted avg       0.90      0.89      0.89     49890\n",
      "\n",
      "validation scores:  [0.82561076 0.82612169 0.82545164]\n",
      "mean of validation score:  0.8257280312453351\n",
      "[[23757  1132]\n",
      " [ 5989 19012]]\n",
      "\n",
      "\n",
      "              precision    recall  f1-score   support\n",
      "\n",
      "           남       0.80      0.95      0.87     24889\n",
      "           여       0.94      0.76      0.84     25001\n",
      "\n",
      "    accuracy                           0.86     49890\n",
      "   macro avg       0.87      0.86      0.86     49890\n",
      "weighted avg       0.87      0.86      0.86     49890\n",
      "\n",
      "validation scores:  [0.80509741 0.80370074 0.80362343]\n",
      "mean of validation score:  0.8041405295345494\n",
      "[[23412  1477]\n",
      " [ 6616 18385]]\n",
      "\n",
      "\n",
      "              precision    recall  f1-score   support\n",
      "\n",
      "           남       0.78      0.94      0.85     24889\n",
      "           여       0.93      0.74      0.82     25001\n",
      "\n",
      "    accuracy                           0.84     49890\n",
      "   macro avg       0.85      0.84      0.84     49890\n",
      "weighted avg       0.85      0.84      0.84     49890\n",
      "\n"
     ]
    }
   ],
   "source": [
    "from sklearn.neighbors import KNeighborsClassifier\n",
    "from sklearn import metrics\n",
    "numbers=[3,5,7]\n",
    "for i in numbers:\n",
    "    knn=KNeighborsClassifier(n_neighbors=i)\n",
    "    knn.fit(X_train,y_train)\n",
    "    scores=cross_val_score(knn,X_train,y_train,cv=3)\n",
    "    print(\"validation scores: \",scores)\n",
    "    print(\"mean of validation score: \",scores.mean())\n",
    "    knn_pred=knn.predict(X_test)\n",
    "    knn_matrix=metrics.confusion_matrix(y_test,knn_pred)\n",
    "    print(knn_matrix)\n",
    "    print('\\n')\n",
    "    knn_report=metrics.classification_report(y_test,knn_pred)\n",
    "    print(knn_report)"
   ]
  },
  {
   "cell_type": "code",
   "execution_count": 44,
   "metadata": {
    "colab": {
     "base_uri": "https://localhost:8080/"
    },
    "id": "j6iaiu9q2kR9",
    "outputId": "d357dbeb-11c3-4d8f-cc34-2dda82b5e571"
   },
   "outputs": [
    {
     "name": "stdout",
     "output_type": "stream",
     "text": [
      "validation scores:  [0.677224   0.67592712 0.67430353]\n",
      "mean of validation score:  0.6758182165983943\n",
      "[[16915  7974]\n",
      " [ 7555 17446]]\n",
      "              precision    recall  f1-score   support\n",
      "\n",
      "           남       0.69      0.68      0.69     24889\n",
      "           여       0.69      0.70      0.69     25001\n",
      "\n",
      "    accuracy                           0.69     49890\n",
      "   macro avg       0.69      0.69      0.69     49890\n",
      "weighted avg       0.69      0.69      0.69     49890\n",
      "\n"
     ]
    }
   ],
   "source": [
    "from sklearn import svm\n",
    "svm_model=svm.SVC(kernel='rbf')\n",
    "svm_model.fit(X_train,y_train)\n",
    "scores=cross_val_score(svm_model,X_train,y_train,cv=3)\n",
    "print(\"validation scores: \",scores)\n",
    "print(\"mean of validation score: \",scores.mean())\n",
    "svm_pred=svm_model.predict(X_test)\n",
    "from sklearn import metrics\n",
    "svm_matrix=metrics.confusion_matrix(y_test,svm_pred)\n",
    "print(svm_matrix)\n",
    "\n",
    "svm_report=metrics.classification_report(y_test,svm_pred)\n",
    "print(svm_report)"
   ]
  },
  {
   "cell_type": "code",
   "execution_count": 45,
   "metadata": {
    "colab": {
     "base_uri": "https://localhost:8080/"
    },
    "id": "Sk1vtIGl2kR9",
    "outputId": "db4636b5-b8d6-4f4b-ea45-91462c1bdbe8"
   },
   "outputs": [
    {
     "name": "stdout",
     "output_type": "stream",
     "text": [
      "validation scores:  [0.56620451 0.56402855 0.55779192]\n",
      "mean of validation score:  0.5626749975988541\n",
      "accuracy:0.566 \n",
      "ROC accuracy:0.566 \n",
      "최적 하이퍼 파라미터:{'C': 10, 'penalty': 'l2'}, 최적 평균 정확도:0.563\n"
     ]
    }
   ],
   "source": [
    "from sklearn.metrics import accuracy_score\n",
    "from sklearn.metrics import roc_auc_score\n",
    "\n",
    "X=X.astype(float)\n",
    "num_y=pd.Series(y_sm)\n",
    "num_y=num_y.replace({'남':1,'여':2})\n",
    "X=preprocessing.StandardScaler().fit(X).transform(X)\n",
    "X_train, X_test, y_train, y_test=train_test_split(X_sm,num_y,test_size=0.3,random_state=10)\n",
    "\n",
    "lr_clf=LogisticRegression()\n",
    "lr_clf.fit(X_train,y_train)\n",
    "scores=cross_val_score(lr_clf,X_train,y_train,cv=3)\n",
    "print(\"validation scores: \",scores)\n",
    "print(\"mean of validation score: \",scores.mean())\n",
    "\n",
    "lr_pred=lr_clf.predict(X_test)\n",
    "\n",
    "print('accuracy:{:0.3f} '.format(accuracy_score(y_test,lr_pred)))\n",
    "print('ROC accuracy:{:0.3f} '.format(roc_auc_score(y_test,lr_pred)))\n",
    "\n",
    "from sklearn.model_selection import GridSearchCV\n",
    "params={'penalty':['l2','l1'],'C':[0.01,0.1,1,5,10]}\n",
    "grid_clf=GridSearchCV(lr_clf,param_grid=params,scoring='accuracy',cv=3)\n",
    "\n",
    "grid_clf.fit(X_train,y_train)\n",
    "grid_clf.get_params()\n",
    "print('최적 하이퍼 파라미터:{0}, 최적 평균 정확도:{1:.3f}'.format(grid_clf.best_params_,grid_clf.best_score_))"
   ]
  },
  {
   "cell_type": "code",
   "execution_count": 46,
   "metadata": {
    "colab": {
     "base_uri": "https://localhost:8080/"
    },
    "id": "bqwDbCas2kR9",
    "outputId": "dfb05313-063e-4b03-adbf-219397b63bab"
   },
   "outputs": [
    {
     "name": "stdout",
     "output_type": "stream",
     "text": [
      "[[13075 11814]\n",
      " [ 9849 15152]] \n",
      "\n",
      "              precision    recall  f1-score   support\n",
      "\n",
      "           1       0.57      0.53      0.55     24889\n",
      "           2       0.56      0.61      0.58     25001\n",
      "\n",
      "    accuracy                           0.57     49890\n",
      "   macro avg       0.57      0.57      0.57     49890\n",
      "weighted avg       0.57      0.57      0.57     49890\n",
      "\n"
     ]
    }
   ],
   "source": [
    "from sklearn import metrics\n",
    "logistic_matrix=metrics.confusion_matrix(y_test,lr_pred)\n",
    "print(logistic_matrix,'\\n')\n",
    "logistic_report=metrics.classification_report(y_test,lr_pred)\n",
    "print(logistic_report)"
   ]
  },
  {
   "cell_type": "code",
   "execution_count": 47,
   "metadata": {
    "colab": {
     "base_uri": "https://localhost:8080/"
    },
    "id": "lgND9ngm2kR9",
    "outputId": "b6ed23f3-62bd-41c1-c9eb-f04ae06957b4"
   },
   "outputs": [
    {
     "name": "stdout",
     "output_type": "stream",
     "text": [
      "validation scores:  [0.90346356 0.90438884 0.90652785]\n",
      "mean of validation score:  0.9047934140525178\n",
      "[[23154  1735]\n",
      " [ 2036 22965]] \n",
      "\n",
      "              precision    recall  f1-score   support\n",
      "\n",
      "           남       0.92      0.93      0.92     24889\n",
      "           여       0.93      0.92      0.92     25001\n",
      "\n",
      "    accuracy                           0.92     49890\n",
      "   macro avg       0.92      0.92      0.92     49890\n",
      "weighted avg       0.92      0.92      0.92     49890\n",
      "\n"
     ]
    }
   ],
   "source": [
    "X_train, X_test, y_train, y_test=train_test_split(X_sm,y_sm,test_size=0.3,random_state=10)\n",
    "\n",
    "from sklearn.tree import DecisionTreeClassifier\n",
    "from sklearn.metrics import accuracy_score\n",
    "dt_clf=DecisionTreeClassifier()\n",
    "dt_clf.fit(X_train,y_train)\n",
    "scores=cross_val_score(dt_clf,X_train,y_train,cv=3)\n",
    "print(\"validation scores: \",scores)\n",
    "print(\"mean of validation score: \",scores.mean())\n",
    "\n",
    "dt_pred=dt_clf.predict(X_test)\n",
    "from sklearn import metrics\n",
    "dt_matrix=metrics.confusion_matrix(y_test,dt_pred)\n",
    "print(dt_matrix,'\\n')\n",
    "dt_report=metrics.classification_report(y_test,dt_pred)\n",
    "print(dt_report)"
   ]
  },
  {
   "cell_type": "code",
   "execution_count": 48,
   "metadata": {
    "colab": {
     "base_uri": "https://localhost:8080/"
    },
    "id": "qXGJDfib2kR9",
    "outputId": "65c99579-3557-49ea-f3a4-6d08c8cbd5fe"
   },
   "outputs": [
    {
     "name": "stdout",
     "output_type": "stream",
     "text": [
      "validation scores:  [0.92467374 0.92338299 0.92400149]\n",
      "mean of validation score:  0.9240194085187144\n",
      "[[21884  3005]\n",
      " [  777 24224]]\n",
      "\n",
      "              precision    recall  f1-score   support\n",
      "\n",
      "           남       0.97      0.88      0.92     24889\n",
      "           여       0.89      0.97      0.93     25001\n",
      "\n",
      "    accuracy                           0.92     49890\n",
      "   macro avg       0.93      0.92      0.92     49890\n",
      "weighted avg       0.93      0.92      0.92     49890\n",
      "\n"
     ]
    }
   ],
   "source": [
    "from sklearn.ensemble import RandomForestClassifier\n",
    "\n",
    "rf_clf=RandomForestClassifier()\n",
    "rf_clf.fit(X_train,y_train)\n",
    "scores=cross_val_score(rf_clf,X_train,y_train,cv=3)\n",
    "print(\"validation scores: \",scores)\n",
    "print(\"mean of validation score: \",scores.mean())\n",
    "rf_pred=rf_clf.predict(X_test)\n",
    "rf_matrix=metrics.confusion_matrix(y_test,rf_pred)\n",
    "print(rf_matrix,'\\n')\n",
    "rf_report=metrics.classification_report(y_test,rf_pred)\n",
    "print(rf_report)"
   ]
  },
  {
   "cell_type": "code",
   "execution_count": 49,
   "metadata": {
    "colab": {
     "base_uri": "https://localhost:8080/"
    },
    "id": "LgcyMXRt2kR9",
    "outputId": "2eb2febf-c371-4e55-f30d-be0d2205d1b9"
   },
   "outputs": [
    {
     "name": "stdout",
     "output_type": "stream",
     "text": [
      "validation scores:  [0.82888362 0.82813185 0.82756488]\n",
      "mean of validation score:  0.8281934482418004\n",
      "[[17474  7415]\n",
      " [ 1097 23904]] \n",
      "\n",
      "              precision    recall  f1-score   support\n",
      "\n",
      "           남       0.94      0.70      0.80     24889\n",
      "           여       0.76      0.96      0.85     25001\n",
      "\n",
      "    accuracy                           0.83     49890\n",
      "   macro avg       0.85      0.83      0.83     49890\n",
      "weighted avg       0.85      0.83      0.83     49890\n",
      "\n"
     ]
    }
   ],
   "source": [
    "from sklearn.ensemble import GradientBoostingClassifier\n",
    "gb_clf=GradientBoostingClassifier(random_state=0)\n",
    "gb_clf.fit(X_train,y_train)\n",
    "scores=cross_val_score(gb_clf,X_train,y_train,cv=3)\n",
    "print(\"validation scores: \",scores)\n",
    "print(\"mean of validation score: \",scores.mean())\n",
    "gb_pred=gb_clf.predict(X_test)\n",
    "gb_accuracy=accuracy_score(y_test,gb_pred)\n",
    "gb_matrix=metrics.confusion_matrix(y_test,gb_pred)\n",
    "print(gb_matrix,'\\n')\n",
    "gb_report=metrics.classification_report(y_test,gb_pred)\n",
    "print(gb_report)"
   ]
  },
  {
   "cell_type": "code",
   "execution_count": 50,
   "metadata": {
    "colab": {
     "base_uri": "https://localhost:8080/"
    },
    "id": "fhxXXTOG2kR9",
    "outputId": "c9c0e241-fe37-4358-c8c9-191222ec035e"
   },
   "outputs": [
    {
     "name": "stdout",
     "output_type": "stream",
     "text": [
      "validation scores:  [0.87689413 0.87776718 0.87477772]\n",
      "mean of validation score:  0.8764796803156575\n",
      "[[19346  5543]\n",
      " [  665 24336]] \n",
      "\n",
      "              precision    recall  f1-score   support\n",
      "\n",
      "           남       0.97      0.78      0.86     24889\n",
      "           여       0.81      0.97      0.89     25001\n",
      "\n",
      "    accuracy                           0.88     49890\n",
      "   macro avg       0.89      0.88      0.87     49890\n",
      "weighted avg       0.89      0.88      0.87     49890\n",
      "\n"
     ]
    }
   ],
   "source": [
    "from xgboost import XGBClassifier\n",
    "xgb_wrapper=XGBClassifier(n_estimators=400,learning_rate=0.1,max_depth=3)\n",
    "xgb_wrapper.fit(X_train,y_train)\n",
    "scores=cross_val_score(xgb_wrapper,X_train,y_train,cv=3)\n",
    "print(\"validation scores: \",scores)\n",
    "print(\"mean of validation score: \",scores.mean())\n",
    "xgb_pred=xgb_wrapper.predict(X_test)\n",
    "xgb_matrix=metrics.confusion_matrix(y_test,xgb_pred)\n",
    "print(xgb_matrix,'\\n')\n",
    "xgb_report=metrics.classification_report(y_test,xgb_pred)\n",
    "print(xgb_report)"
   ]
  },
  {
   "cell_type": "code",
   "execution_count": 51,
   "metadata": {
    "colab": {
     "base_uri": "https://localhost:8080/"
    },
    "id": "rJuIV9Dr2kR9",
    "outputId": "4473ce92-4957-47d5-93d8-d273fce35e66"
   },
   "outputs": [
    {
     "name": "stdout",
     "output_type": "stream",
     "text": [
      "validation scores:  [0.91671065 0.91183749 0.91255908]\n",
      "mean of validation score:  0.9137024052208302\n",
      "[[22615  2274]\n",
      " [ 1816 23185]]\n",
      "\n",
      "              precision    recall  f1-score   support\n",
      "\n",
      "           남       0.93      0.91      0.92     24889\n",
      "           여       0.91      0.93      0.92     25001\n",
      "\n",
      "    accuracy                           0.92     49890\n",
      "   macro avg       0.92      0.92      0.92     49890\n",
      "weighted avg       0.92      0.92      0.92     49890\n",
      "\n"
     ]
    }
   ],
   "source": [
    "from lightgbm import LGBMClassifier\n",
    "\n",
    "lgbm_wrapper=LGBMClassifier(n_estimators=400)\n",
    "lgbm_wrapper.fit(X_train,y_train,eval_metric=\"logloss\",verbose=True)\n",
    "scores=cross_val_score(lgbm_wrapper,X_train,y_train,cv=3)\n",
    "print(\"validation scores: \",scores)\n",
    "print(\"mean of validation score: \",scores.mean())\n",
    "lgbm_pred=lgbm_wrapper.predict(X_test)\n",
    "lgbm_matrix=metrics.confusion_matrix(y_test,lgbm_pred)\n",
    "print(lgbm_matrix,'\\n')\n",
    "lgbm_report=metrics.classification_report(y_test,lgbm_pred)\n",
    "print(lgbm_report)"
   ]
  },
  {
   "cell_type": "code",
   "execution_count": 52,
   "metadata": {
    "colab": {
     "base_uri": "https://localhost:8080/"
    },
    "id": "6NopZk9Z2kR9",
    "outputId": "e0da5f52-f5c0-4e71-94f6-6d4ca75f692d"
   },
   "outputs": [
    {
     "name": "stdout",
     "output_type": "stream",
     "text": [
      "validation scores:  [0.50015462 0.4940082  0.49369894]\n",
      "mean of validation score:  0.4959539197603\n",
      "[[14961  9928]\n",
      " [14737 10264]] \n",
      "\n",
      "              precision    recall  f1-score   support\n",
      "\n",
      "           0       0.50      0.60      0.55     24889\n",
      "           1       0.51      0.41      0.45     25001\n",
      "\n",
      "    accuracy                           0.51     49890\n",
      "   macro avg       0.51      0.51      0.50     49890\n",
      "weighted avg       0.51      0.51      0.50     49890\n",
      "\n"
     ]
    }
   ],
   "source": [
    "from sklearn.cluster import KMeans\n",
    "from sklearn import metrics\n",
    "\n",
    "y_test=pd.Series(y_test)\n",
    "y_train=pd.Series(y_train)\n",
    "num_y_test=y_test.replace({'남':0,'여':1})\n",
    "num_y_train=y_train.replace({'남':0,'여':1})\n",
    "kmeans=KMeans(n_clusters=2)\n",
    "kmeans.fit(X_train,num_y_train)\n",
    "scores=cross_val_score(kmeans,X_train,num_y_train,cv=3,scoring='accuracy')\n",
    "print(\"validation scores: \",scores)\n",
    "print(\"mean of validation score: \",scores.mean())\n",
    "km_pred=kmeans.predict(X_test)\n",
    "km_matrix=metrics.confusion_matrix(num_y_test,km_pred)\n",
    "print(km_matrix,'\\n')\n",
    "km_report=metrics.classification_report(num_y_test,km_pred)\n",
    "print(km_report)"
   ]
  },
  {
   "cell_type": "code",
   "execution_count": 53,
   "metadata": {
    "colab": {
     "base_uri": "https://localhost:8080/"
    },
    "id": "S89w65YQ2kR9",
    "outputId": "7c47b30b-425d-43b5-b202-1457ef282c5b"
   },
   "outputs": [
    {
     "name": "stdout",
     "output_type": "stream",
     "text": [
      "validation scores:  [0.93871766 0.93887071 0.94031389]\n",
      "mean of validation score:  0.939300752367446\n",
      "[[22435  2454]\n",
      " [  388 24613]]\n",
      "\n",
      "              precision    recall  f1-score   support\n",
      "\n",
      "           남       0.98      0.90      0.94     24889\n",
      "           여       0.91      0.98      0.95     25001\n",
      "\n",
      "    accuracy                           0.94     49890\n",
      "   macro avg       0.95      0.94      0.94     49890\n",
      "weighted avg       0.95      0.94      0.94     49890\n",
      "\n"
     ]
    }
   ],
   "source": [
    "from sklearn.ensemble import VotingClassifier\n",
    "from lightgbm import LGBMClassifier\n",
    "from sklearn.ensemble import RandomForestClassifier\n",
    "from sklearn.tree import DecisionTreeClassifier\n",
    "\n",
    "X_train, X_test, y_train, y_test=train_test_split(X_sm,y_sm,test_size=0.3,random_state=10)\n",
    "\n",
    "lgbm_clf=LGBMClassifier(n_estimators=400)\n",
    "rf_clf=RandomForestClassifier(random_state=0)\n",
    "dt_clf=DecisionTreeClassifier(random_state=156)\n",
    "vo_clf=VotingClassifier(estimators=[('LGBM',lgbm_clf),('RF',rf_clf),('DT',dt_clf)],voting='soft')\n",
    "\n",
    "X_test_selected=select.transform(X_test)\n",
    "vo_clf.fit(X_train_selected,y_train)\n",
    "scores=cross_val_score(vo_clf,X_train_selected,y_train,cv=3)\n",
    "print(\"validation scores: \",scores)\n",
    "print(\"mean of validation score: \",scores.mean())\n",
    "vo_pred=vo_clf.predict(X_test_selected)\n",
    "vo_matrix=metrics.confusion_matrix(y_test,vo_pred)\n",
    "print(vo_matrix,'\\n')\n",
    "vo_report=metrics.classification_report(y_test,vo_pred)\n",
    "print(vo_report)"
   ]
  },
  {
   "cell_type": "code",
   "execution_count": 54,
   "metadata": {},
   "outputs": [
    {
     "name": "stdout",
     "output_type": "stream",
     "text": [
      "{'DT__criterion': 'gini', 'DT__max_depth': 3, 'LGBM__num_leaves': 127, 'LGBM__reg_alpha': 0.1, 'RF__max_features': 'auto', 'RF__min_samples_leaf': 2}\n",
      "validation scores:  [0.95760746 0.9560601  0.95763214]\n",
      "mean of validation score:  0.9570999011462762\n",
      "[[23536  1353]\n",
      " [  339 24662]]\n",
      "\n",
      "              precision    recall  f1-score   support\n",
      "\n",
      "           남       0.99      0.95      0.97     24889\n",
      "           여       0.95      0.99      0.97     25001\n",
      "\n",
      "    accuracy                           0.97     49890\n",
      "   macro avg       0.97      0.97      0.97     49890\n",
      "weighted avg       0.97      0.97      0.97     49890\n",
      "\n"
     ]
    }
   ],
   "source": [
    "from sklearn.ensemble import VotingClassifier\n",
    "from lightgbm import LGBMClassifier\n",
    "from sklearn.ensemble import RandomForestClassifier\n",
    "from sklearn.tree import DecisionTreeClassifier\n",
    "import numpy as np\n",
    "from sklearn.model_selection import GridSearchCV\n",
    "from sklearn.model_selection import cross_val_score\n",
    "from sklearn import metrics\n",
    "\n",
    "X_train, X_test, y_train, y_test=train_test_split(X_sm,y_sm,test_size=0.3,random_state=10)\n",
    "\n",
    "lgbm_clf=LGBMClassifier(n_estimators=400)\n",
    "rf_clf=RandomForestClassifier()\n",
    "dt_clf=DecisionTreeClassifier()\n",
    "vo_clf=VotingClassifier(estimators=[('LGBM',lgbm_clf),('RF',rf_clf),('DT',dt_clf)],voting='soft')\n",
    "\n",
    "params = {'LGBM__num_leaves': [31, 127],'LGBM__reg_alpha': [0.1, 0.5], 'RF__max_features': ['auto', 'sqrt'],'RF__min_samples_leaf': [2, 4],\n",
    "      'DT__criterion':['gini','entropy'],'DT__max_depth': [3,5]}   \n",
    "\n",
    "\n",
    "grid_vo = GridSearchCV(estimator=vo_clf, param_grid=params, cv=2)\n",
    "\n",
    "X_test_selected=select.transform(X_test)\n",
    "grid_vo.fit(X_train_selected,y_train)\n",
    "print (grid_vo.best_params_)\n",
    "\n",
    "scores=cross_val_score(grid_vo,X_train_selected,y_train,cv=3)\n",
    "print(\"validation scores: \",scores)\n",
    "print(\"mean of validation score: \",scores.mean())\n",
    "vo_pred=grid_vo.predict(X_test_selected)\n",
    "vo_matrix=metrics.confusion_matrix(y_test,vo_pred)\n",
    "print(vo_matrix,'\\n')\n",
    "vo_report=metrics.classification_report(y_test,vo_pred)\n",
    "print(vo_report)"
   ]
  },
  {
   "cell_type": "code",
   "execution_count": 55,
   "metadata": {
    "colab": {
     "base_uri": "https://localhost:8080/",
     "height": 284
    },
    "id": "ZgpXfoS35PJu",
    "outputId": "13bce576-ba39-4cba-ee37-aaec415109bb"
   },
   "outputs": [
    {
     "data": {
      "text/plain": [
       "<matplotlib.axes._subplots.AxesSubplot at 0x1c15805c280>"
      ]
     },
     "execution_count": 55,
     "metadata": {},
     "output_type": "execute_result"
    },
    {
     "data": {
      "image/png": "[encoded data removed]",
      "text/plain": [
       "<Figure size 432x288 with 1 Axes>"
      ]
     },
     "metadata": {
      "needs_background": "light"
     },
     "output_type": "display_data"
    }
   ],
   "source": [
    "from xgboost import XGBClassifier\n",
    "xgb_imp=XGBClassifier(n_estimators=400,learning_rate=0.1,max_depth=3)\n",
    "mart_imp=mart.apply(LabelEncoder().fit_transform)\n",
    "mart_imp=mart_imp.drop(['성별','ID'],axis=1)\n",
    "xgb_imp.fit(mart_imp,y)\n",
    "\n",
    "feature_important = xgb_imp.get_booster().get_score(importance_type='weight')\n",
    "keys = list(feature_important.keys())\n",
    "values = list(feature_important.values())\n",
    "\n",
    "data = pd.DataFrame(data=values, index=keys, columns=[\"score\"]).sort_values(by = \"score\", ascending=True)\n",
    "data.plot(kind='barh')"
   ]
  },
  {
   "cell_type": "code",
   "execution_count": 56,
   "metadata": {},
   "outputs": [
    {
     "data": {
      "text/plain": [
       "array([[14649, 15049],\n",
       "       [ 9786, 10406]], dtype=int64)"
      ]
     },
     "execution_count": 56,
     "metadata": {},
     "output_type": "execute_result"
    }
   ],
   "source": [
    "vo_pred_series=pd.Series(vo_pred)\n",
    "vo_pred_series=vo_pred_series.replace({'남':0,'여':1})\n",
    "confusion_matrix=metrics.confusion_matrix(km_pred,vo_pred_series)\n",
    "confusion_matrix"
   ]
  },
  {
   "cell_type": "code",
   "execution_count": null,
   "metadata": {},
   "outputs": [],
   "source": []
  }
 ],
 "metadata": {
  "colab": {
   "collapsed_sections": [],
   "name": "텀프 CV.ipynb",
   "provenance": []
  },
  "kernelspec": {
   "display_name": "Python 3",
   "language": "python",
   "name": "python3"
  },
  "language_info": {
   "codemirror_mode": {
    "name": "ipython",
    "version": 3
   },
   "file_extension": ".py",
   "mimetype": "text/x-python",
   "name": "python",
   "nbconvert_exporter": "python",
   "pygments_lexer": "ipython3",
   "version": "3.8.3"
  }
 },
 "nbformat": 4,
 "nbformat_minor": 1
}
